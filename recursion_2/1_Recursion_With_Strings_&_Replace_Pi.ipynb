{
  "nbformat": 4,
  "nbformat_minor": 0,
  "metadata": {
    "colab": {
      "provenance": []
    },
    "kernelspec": {
      "name": "python3",
      "display_name": "Python 3"
    },
    "language_info": {
      "name": "python"
    }
  },
  "cells": [
    {
      "cell_type": "code",
      "execution_count": 4,
      "metadata": {
        "id": "AEEARBPAtPPA"
      },
      "outputs": [],
      "source": [
        "def replaceChar(s, a, b): # s=string sen, (a,b)= want to replace a by b\n",
        "  if len(s)==0:\n",
        "    return s\n",
        "\n",
        "  smalloutput = replaceChar(s[1:], a, b)\n",
        "  if s[0]==a:\n",
        "    return b+ smalloutput\n",
        "  else:\n",
        "    return s[0] + smalloutput"
      ]
    },
    {
      "cell_type": "code",
      "source": [
        "replaceChar('aklllhk', 'l', 'z')"
      ],
      "metadata": {
        "colab": {
          "base_uri": "https://localhost:8080/",
          "height": 35
        },
        "id": "YuaxkURPzVkF",
        "outputId": "fa9740fe-69eb-436a-ca29-7b81264e0b85"
      },
      "execution_count": 7,
      "outputs": [
        {
          "output_type": "execute_result",
          "data": {
            "text/plain": [
              "'akzzzhk'"
            ],
            "application/vnd.google.colaboratory.intrinsic+json": {
              "type": "string"
            }
          },
          "metadata": {},
          "execution_count": 7
        }
      ]
    },
    {
      "cell_type": "code",
      "source": [
        "replaceChar('laklllhk', 'l', 'z')"
      ],
      "metadata": {
        "colab": {
          "base_uri": "https://localhost:8080/",
          "height": 35
        },
        "id": "k9xnKlLDzfE_",
        "outputId": "bb875dab-b18d-4a73-8603-4e97c8ab1f77"
      },
      "execution_count": 8,
      "outputs": [
        {
          "output_type": "execute_result",
          "data": {
            "text/plain": [
              "'zakzzzhk'"
            ],
            "application/vnd.google.colaboratory.intrinsic+json": {
              "type": "string"
            }
          },
          "metadata": {},
          "execution_count": 8
        }
      ]
    },
    {
      "cell_type": "code",
      "source": [
        "replaceChar('', 'l', 'z')"
      ],
      "metadata": {
        "colab": {
          "base_uri": "https://localhost:8080/",
          "height": 35
        },
        "id": "B4JN-ErF3zV4",
        "outputId": "9a5dca33-307f-4d04-f203-1ad9feba433f"
      },
      "execution_count": 9,
      "outputs": [
        {
          "output_type": "execute_result",
          "data": {
            "text/plain": [
              "''"
            ],
            "application/vnd.google.colaboratory.intrinsic+json": {
              "type": "string"
            }
          },
          "metadata": {},
          "execution_count": 9
        }
      ]
    },
    {
      "cell_type": "markdown",
      "source": [
        "### **Replacing \"pi\" with 3.14**"
      ],
      "metadata": {
        "id": "4CJwIGcC5ikD"
      }
    },
    {
      "cell_type": "code",
      "source": [
        "def replacepi(s):\n",
        "    if len(s)==0 or len(s) ==1:\n",
        "        return s\n",
        "    \n",
        "    if s[0]=='p' or s[1]=='i':\n",
        "        smalloutput=replacepi(s[2:])\n",
        "        return '3.14'+ smalloutput\n",
        "  # if first two charac are p and i then replace it with 3.14 by adding smalloutput \n",
        "  # smalloutput is taken because we have to add remaining string from charac 2\n",
        "    \n",
        "    else:\n",
        "        smalloutput=replacepi(s[1:])\n",
        "        return s[0]+ smalloutput\n",
        "   # s[1:] to check from charac b if 'abcd'\n",
        "  # s[0] + smallout to add start char index 0 i.e a \n",
        "  "
      ],
      "metadata": {
        "id": "nPuBWec29Kpi"
      },
      "execution_count": 31,
      "outputs": []
    },
    {
      "cell_type": "code",
      "source": [
        "replacepi('abcpipipi')"
      ],
      "metadata": {
        "colab": {
          "base_uri": "https://localhost:8080/",
          "height": 35
        },
        "id": "UKvT7NES8B-O",
        "outputId": "05e75630-a1da-46b2-cdb6-e4697d4ea280"
      },
      "execution_count": 32,
      "outputs": [
        {
          "output_type": "execute_result",
          "data": {
            "text/plain": [
              "'abc 3.14  3.14  3.14 '"
            ],
            "application/vnd.google.colaboratory.intrinsic+json": {
              "type": "string"
            }
          },
          "metadata": {},
          "execution_count": 32
        }
      ]
    },
    {
      "cell_type": "code",
      "source": [
        "replacepi('piabcpipipi')"
      ],
      "metadata": {
        "colab": {
          "base_uri": "https://localhost:8080/",
          "height": 35
        },
        "id": "ZnFgCgHg8Ln4",
        "outputId": "20f8b688-2ea2-4c95-9656-d186e159ef82"
      },
      "execution_count": 34,
      "outputs": [
        {
          "output_type": "execute_result",
          "data": {
            "text/plain": [
              "' 3.14 abc 3.14  3.14  3.14 '"
            ],
            "application/vnd.google.colaboratory.intrinsic+json": {
              "type": "string"
            }
          },
          "metadata": {},
          "execution_count": 34
        }
      ]
    },
    {
      "cell_type": "code",
      "source": [],
      "metadata": {
        "id": "_-owOlEL9lzw"
      },
      "execution_count": null,
      "outputs": []
    }
  ]
}