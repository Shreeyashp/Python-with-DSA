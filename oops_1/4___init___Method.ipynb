{
  "nbformat": 4,
  "nbformat_minor": 0,
  "metadata": {
    "colab": {
      "provenance": []
    },
    "kernelspec": {
      "name": "python3",
      "display_name": "Python 3"
    },
    "language_info": {
      "name": "python"
    }
  },
  "cells": [
    {
      "cell_type": "code",
      "source": [
        "class Student:\n",
        "\n",
        "  def __init__(self): # assigning function # self. = argument / address of object\n",
        "      self.name = 'shree' \n",
        "      self.rollnumber = 10 # creating 2 attributes name and roll"
      ],
      "metadata": {
        "id": "n5dHhXGCaIL5"
      },
      "execution_count": 46,
      "outputs": []
    },
    {
      "cell_type": "code",
      "source": [
        "s1 = Student() "
      ],
      "metadata": {
        "id": "Zo_AfJ2haIIb"
      },
      "execution_count": 48,
      "outputs": []
    },
    {
      "cell_type": "code",
      "source": [
        "s1.__dict__ # attribute dict"
      ],
      "metadata": {
        "colab": {
          "base_uri": "https://localhost:8080/"
        },
        "id": "-qvg0H5faIGJ",
        "outputId": "b7f3e376-7f17-4b02-b4dd-294996f6e244"
      },
      "execution_count": 49,
      "outputs": [
        {
          "output_type": "execute_result",
          "data": {
            "text/plain": [
              "{'name': 'shree', 'rollnumber': 10}"
            ]
          },
          "metadata": {},
          "execution_count": 49
        }
      ]
    },
    {
      "cell_type": "code",
      "source": [
        "s2 = Student()\n",
        "s2.__dict__"
      ],
      "metadata": {
        "colab": {
          "base_uri": "https://localhost:8080/"
        },
        "id": "R01h6oxgaIDR",
        "outputId": "3f59ecef-1574-4df2-edfb-a839a3764452"
      },
      "execution_count": 50,
      "outputs": [
        {
          "output_type": "execute_result",
          "data": {
            "text/plain": [
              "{'name': 'shree', 'rollnumber': 10}"
            ]
          },
          "metadata": {},
          "execution_count": 50
        }
      ]
    },
    {
      "cell_type": "code",
      "source": [
        "s1,s2"
      ],
      "metadata": {
        "colab": {
          "base_uri": "https://localhost:8080/"
        },
        "id": "Sn_okN4OaIBB",
        "outputId": "284a8f07-bb99-41ca-c7ba-d4aafe42c4a4"
      },
      "execution_count": 51,
      "outputs": [
        {
          "output_type": "execute_result",
          "data": {
            "text/plain": [
              "(<__main__.Student at 0x7fe3b339c7f0>, <__main__.Student at 0x7fe3b33888b0>)"
            ]
          },
          "metadata": {},
          "execution_count": 51
        }
      ]
    },
    {
      "cell_type": "code",
      "source": [],
      "metadata": {
        "id": "XVHuynhQaH-f"
      },
      "execution_count": null,
      "outputs": []
    },
    {
      "cell_type": "code",
      "source": [
        "class STUDENT:\n",
        "    \n",
        "    def __init__(self,name,Rollnumber):\n",
        "        self.name = name\n",
        "        self.Rollnumber=Rollnumber\n",
        "s1 = STUDENT('Rohan',12)"
      ],
      "metadata": {
        "id": "s0tgcO7OaH8Q"
      },
      "execution_count": 52,
      "outputs": []
    },
    {
      "cell_type": "code",
      "source": [
        "s1 = STUDENT('Rohan',12)\n",
        "s2 = STUDENT('Ankush',13)"
      ],
      "metadata": {
        "id": "YWO08CCfc4aM"
      },
      "execution_count": 54,
      "outputs": []
    },
    {
      "cell_type": "code",
      "source": [
        "s1.__dict__"
      ],
      "metadata": {
        "colab": {
          "base_uri": "https://localhost:8080/"
        },
        "id": "XduMlw-Ac4Wr",
        "outputId": "822a1e7f-64d6-4d55-c21b-3a6bc46f751a"
      },
      "execution_count": 55,
      "outputs": [
        {
          "output_type": "execute_result",
          "data": {
            "text/plain": [
              "{'name': 'Rohan', 'Rollnumber': 12}"
            ]
          },
          "metadata": {},
          "execution_count": 55
        }
      ]
    },
    {
      "cell_type": "code",
      "source": [
        "s2.__dict__\n"
      ],
      "metadata": {
        "colab": {
          "base_uri": "https://localhost:8080/"
        },
        "id": "jrHzl2rJc4Ul",
        "outputId": "a630aa87-9868-451a-9b99-149ff148dfd6"
      },
      "execution_count": 56,
      "outputs": [
        {
          "output_type": "execute_result",
          "data": {
            "text/plain": [
              "{'name': 'Ankush', 'Rollnumber': 13}"
            ]
          },
          "metadata": {},
          "execution_count": 56
        }
      ]
    },
    {
      "cell_type": "code",
      "source": [],
      "metadata": {
        "id": "7yrnwOevdFMq"
      },
      "execution_count": null,
      "outputs": []
    }
  ]
}