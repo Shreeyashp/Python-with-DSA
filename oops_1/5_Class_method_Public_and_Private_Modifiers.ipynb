{
  "nbformat": 4,
  "nbformat_minor": 0,
  "metadata": {
    "colab": {
      "provenance": []
    },
    "kernelspec": {
      "name": "python3",
      "display_name": "Python 3"
    },
    "language_info": {
      "name": "python"
    }
  },
  "cells": [
    {
      "cell_type": "markdown",
      "source": [
        "# **@classmethod:**"
      ],
      "metadata": {
        "id": "TRtraeNIsF3H"
      }
    },
    {
      "cell_type": "code",
      "source": [
        "from datetime import date\n",
        "\n",
        "class Student:\n",
        "\n",
        "  passingPercentage = 40\n",
        "\n",
        "  def __init__(self, name, age = 15, percentage = 80):\n",
        "    self.name = name\n",
        "    self.age = age\n",
        "    self.percentage = percentage\n",
        "\n",
        "  @classmethod    # first argument will be classname\n",
        "  def fromBirthYear(cls, name, year, percentage):\n",
        "    return cls(name, date.today().year - year, percentage)\n",
        "\n",
        "  def studentdetials(self):\n",
        "    print(\"name = \", self.name)\n",
        "    print(\"age = \", self.age)\n",
        "    print(\"percentage = \", self.percentage)\n",
        "\n",
        "  def isPassed(self):\n",
        "    if self.percentage >= Student.passingPercentage:\n",
        "      print(\"student is passed\")\n",
        "    else:\n",
        "      print(\"student is not passed\")\n",
        "  \n",
        "  @staticmethod  #no need to pass argument\n",
        "  def welcomeToSchool():\n",
        "    print(\"Great welcome\")\n"
      ],
      "metadata": {
        "id": "nYAWWq-UnzxH"
      },
      "execution_count": 9,
      "outputs": []
    },
    {
      "cell_type": "code",
      "source": [
        "s1 = Student('shree')\n",
        "s1 = Student.fromBirthYear('shree', 1999, 70)"
      ],
      "metadata": {
        "id": "FuTos6h4rm8N"
      },
      "execution_count": 11,
      "outputs": []
    },
    {
      "cell_type": "code",
      "source": [
        "s1.studentdetials()"
      ],
      "metadata": {
        "colab": {
          "base_uri": "https://localhost:8080/"
        },
        "id": "4jY9OCXDrm47",
        "outputId": "cc618329-790f-47b4-eb60-1efd6b9210d9"
      },
      "execution_count": 12,
      "outputs": [
        {
          "output_type": "stream",
          "name": "stdout",
          "text": [
            "name =  shree\n",
            "age =  23\n",
            "percentage =  70\n"
          ]
        }
      ]
    },
    {
      "cell_type": "code",
      "source": [],
      "metadata": {
        "id": "WMiFcfUNsNC6"
      },
      "execution_count": null,
      "outputs": []
    },
    {
      "cell_type": "markdown",
      "source": [
        "# **Public and Private Modifiers**"
      ],
      "metadata": {
        "id": "xfwTJRQzsQKc"
      }
    },
    {
      "cell_type": "code",
      "source": [
        "class Student:\n",
        "\n",
        "  passingPercentage = 40\n",
        "\n",
        "  def __init__(self, name, age = 15, percentage = 80):\n",
        "    self.__name = name #__name is private variable because of __\n",
        "    self.age = age\n",
        "    self.percentage = percentage\n",
        "\n",
        "  def studentdetials(self):\n",
        "    print(\"name = \", self.__name)\n",
        "    print(\"age = \", self.age)\n",
        "    print(\"percentage = \", self.percentage)\n",
        "\n",
        "  def isPassed(self):\n",
        "    if self.percentage >= Student.passingPercentage:\n",
        "      print(\"student is passed\")\n",
        "    else:\n",
        "      print(\"student is not passed\")\n",
        "  \n",
        "  @staticmethod  #no need to pass argument\n",
        "  def welcomeToSchool():\n",
        "    print(\"Great welcome\")\n"
      ],
      "metadata": {
        "id": "pCnagVEpsM9d"
      },
      "execution_count": 18,
      "outputs": []
    },
    {
      "cell_type": "code",
      "source": [
        "s1 = Student('shree')\n",
        "print(s1.name)\n",
        "print(s1.age)"
      ],
      "metadata": {
        "colab": {
          "base_uri": "https://localhost:8080/",
          "height": 201
        },
        "id": "8uG3Wl5dnztp",
        "outputId": "409a1224-88c4-4bc1-98aa-f5995a9da791"
      },
      "execution_count": 22,
      "outputs": [
        {
          "output_type": "error",
          "ename": "AttributeError",
          "evalue": "ignored",
          "traceback": [
            "\u001b[0;31m---------------------------------------------------------------------------\u001b[0m",
            "\u001b[0;31mAttributeError\u001b[0m                            Traceback (most recent call last)",
            "\u001b[0;32m<ipython-input-22-dafc3419b75e>\u001b[0m in \u001b[0;36m<module>\u001b[0;34m\u001b[0m\n\u001b[1;32m      1\u001b[0m \u001b[0ms1\u001b[0m \u001b[0;34m=\u001b[0m \u001b[0mStudent\u001b[0m\u001b[0;34m(\u001b[0m\u001b[0;34m'shree'\u001b[0m\u001b[0;34m)\u001b[0m\u001b[0;34m\u001b[0m\u001b[0;34m\u001b[0m\u001b[0m\n\u001b[0;32m----> 2\u001b[0;31m \u001b[0mprint\u001b[0m\u001b[0;34m(\u001b[0m\u001b[0ms1\u001b[0m\u001b[0;34m.\u001b[0m\u001b[0mname\u001b[0m\u001b[0;34m)\u001b[0m\u001b[0;34m\u001b[0m\u001b[0;34m\u001b[0m\u001b[0m\n\u001b[0m\u001b[1;32m      3\u001b[0m \u001b[0mprint\u001b[0m\u001b[0;34m(\u001b[0m\u001b[0ms1\u001b[0m\u001b[0;34m.\u001b[0m\u001b[0mage\u001b[0m\u001b[0;34m)\u001b[0m\u001b[0;34m\u001b[0m\u001b[0;34m\u001b[0m\u001b[0m\n",
            "\u001b[0;31mAttributeError\u001b[0m: 'Student' object has no attribute 'name'"
          ]
        }
      ]
    },
    {
      "cell_type": "code",
      "source": [
        "s1.name = 'yash'\n",
        "s1.age = 16\n",
        "\n",
        "print(s1.name)\n",
        "print(s1.age)"
      ],
      "metadata": {
        "colab": {
          "base_uri": "https://localhost:8080/"
        },
        "id": "dRJDtvDanzqy",
        "outputId": "e2a27340-c1d8-4e93-d458-a00b62685727"
      },
      "execution_count": 15,
      "outputs": [
        {
          "output_type": "stream",
          "name": "stdout",
          "text": [
            "yash\n",
            "16\n"
          ]
        }
      ]
    },
    {
      "cell_type": "code",
      "source": [
        "s1.studentdetials()"
      ],
      "metadata": {
        "colab": {
          "base_uri": "https://localhost:8080/",
          "height": 287
        },
        "id": "6bD5daE5nzkC",
        "outputId": "0118913e-9163-4c14-9e48-c9027017af7f"
      },
      "execution_count": 23,
      "outputs": [
        {
          "output_type": "error",
          "ename": "AttributeError",
          "evalue": "ignored",
          "traceback": [
            "\u001b[0;31m---------------------------------------------------------------------------\u001b[0m",
            "\u001b[0;31mAttributeError\u001b[0m                            Traceback (most recent call last)",
            "\u001b[0;32m<ipython-input-23-68362b0677ba>\u001b[0m in \u001b[0;36m<module>\u001b[0;34m\u001b[0m\n\u001b[0;32m----> 1\u001b[0;31m \u001b[0ms1\u001b[0m\u001b[0;34m.\u001b[0m\u001b[0mstudentdetials\u001b[0m\u001b[0;34m(\u001b[0m\u001b[0;34m)\u001b[0m\u001b[0;34m\u001b[0m\u001b[0;34m\u001b[0m\u001b[0m\n\u001b[0m",
            "\u001b[0;32m<ipython-input-18-ae6006be0652>\u001b[0m in \u001b[0;36mstudentdetials\u001b[0;34m(self)\u001b[0m\n\u001b[1;32m      9\u001b[0m \u001b[0;34m\u001b[0m\u001b[0m\n\u001b[1;32m     10\u001b[0m   \u001b[0;32mdef\u001b[0m \u001b[0mstudentdetials\u001b[0m\u001b[0;34m(\u001b[0m\u001b[0mself\u001b[0m\u001b[0;34m)\u001b[0m\u001b[0;34m:\u001b[0m\u001b[0;34m\u001b[0m\u001b[0;34m\u001b[0m\u001b[0m\n\u001b[0;32m---> 11\u001b[0;31m     \u001b[0mprint\u001b[0m\u001b[0;34m(\u001b[0m\u001b[0;34m\"name = \"\u001b[0m\u001b[0;34m,\u001b[0m \u001b[0mself\u001b[0m\u001b[0;34m.\u001b[0m\u001b[0mname\u001b[0m\u001b[0;34m)\u001b[0m\u001b[0;34m\u001b[0m\u001b[0;34m\u001b[0m\u001b[0m\n\u001b[0m\u001b[1;32m     12\u001b[0m     \u001b[0mprint\u001b[0m\u001b[0;34m(\u001b[0m\u001b[0;34m\"age = \"\u001b[0m\u001b[0;34m,\u001b[0m \u001b[0mself\u001b[0m\u001b[0;34m.\u001b[0m\u001b[0mage\u001b[0m\u001b[0;34m)\u001b[0m\u001b[0;34m\u001b[0m\u001b[0;34m\u001b[0m\u001b[0m\n\u001b[1;32m     13\u001b[0m     \u001b[0mprint\u001b[0m\u001b[0;34m(\u001b[0m\u001b[0;34m\"percentage = \"\u001b[0m\u001b[0;34m,\u001b[0m \u001b[0mself\u001b[0m\u001b[0;34m.\u001b[0m\u001b[0mpercentage\u001b[0m\u001b[0;34m)\u001b[0m\u001b[0;34m\u001b[0m\u001b[0;34m\u001b[0m\u001b[0m\n",
            "\u001b[0;31mAttributeError\u001b[0m: 'Student' object has no attribute 'name'"
          ]
        }
      ]
    },
    {
      "cell_type": "markdown",
      "source": [
        "* if u want to check it:"
      ],
      "metadata": {
        "id": "7NyPFmawt2F0"
      }
    },
    {
      "cell_type": "code",
      "source": [
        "print(s1._Student__name)"
      ],
      "metadata": {
        "colab": {
          "base_uri": "https://localhost:8080/"
        },
        "id": "IW98uPClnzgm",
        "outputId": "c4eb8b52-e5ce-48a3-dbe9-a21ea1d51fba"
      },
      "execution_count": 24,
      "outputs": [
        {
          "output_type": "stream",
          "name": "stdout",
          "text": [
            "shree\n"
          ]
        }
      ]
    },
    {
      "cell_type": "code",
      "source": [],
      "metadata": {
        "id": "OxNvgqgMnzeC"
      },
      "execution_count": null,
      "outputs": []
    }
  ]
}