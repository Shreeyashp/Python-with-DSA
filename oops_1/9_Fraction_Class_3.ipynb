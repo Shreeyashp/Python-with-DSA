{
  "nbformat": 4,
  "nbformat_minor": 0,
  "metadata": {
    "colab": {
      "provenance": []
    },
    "kernelspec": {
      "name": "python3",
      "display_name": "Python 3"
    },
    "language_info": {
      "name": "python"
    }
  },
  "cells": [
    {
      "cell_type": "code",
      "source": [
        "class Fraction:\n",
        "  \n",
        "  def __init__(self, num = 0, den = 1):\n",
        "    \n",
        "    if den == 0:\n",
        "      den = 1\n",
        "\n",
        "    self.num = num\n",
        "    self.den = den\n",
        "  \n",
        "  def print(self):\n",
        "    if self.num == 0:\n",
        "      print(0)\n",
        "    elif self.den==1:\n",
        "      print(self.num)\n",
        "    else:\n",
        "      print(self.num, '/', self.den)\n",
        "\n",
        "# if we want to divide it such as e.g 10/20 ans is 1/2 so for that we will create simplify funct:\n",
        "  def simplify(self):\n",
        "    current = min(self.num, self.den) \n",
        "    while current > 1:   # let current bigger than 1\n",
        "      if self.num % current == 0 and self.den % current == 0: \n",
        "        break\n",
        "      current -=1\n",
        "\n",
        "    # eg. 14/6 (6 does not div 14) current will use less than -1 i.e 5 (5 does not div 14) like this (4 does not div 14) (3 does not div 14)\n",
        "    # (2 div 14) and it will also div 6 i.e 7/3 \n",
        "    self.num = self.num//current\n",
        "    self.den = self.den//current\n",
        "\n",
        "  def add(self,other):\n",
        "    newNum = other.den*self.num + other.num*self.den\n",
        "    newDen = other.den * self.den\n",
        "\n",
        "    self.num = newNum\n",
        "    self.den = newDen\n",
        "    self.simplify()\n",
        "\n",
        "  def multiply(self, other):\n",
        "\n",
        "    newNum = other.num * self.num\n",
        "    newDen = other.den * self.den\n",
        "    self.num = newNum\n",
        "    self.den = newDen\n",
        "    self.simplify()\n"
      ],
      "metadata": {
        "id": "11-1xaoNmjmu"
      },
      "execution_count": 56,
      "outputs": []
    },
    {
      "cell_type": "code",
      "source": [
        "f1 = Fraction(2, 5)\n",
        "f2 = Fraction(1, 3)"
      ],
      "metadata": {
        "id": "6_xFhaNu1TaN"
      },
      "execution_count": 57,
      "outputs": []
    },
    {
      "cell_type": "code",
      "source": [
        "f1.add(f2)\n",
        "f1.print()"
      ],
      "metadata": {
        "colab": {
          "base_uri": "https://localhost:8080/"
        },
        "id": "CJJu6ye11TWr",
        "outputId": "0c3a9eb9-bffe-41ad-c33d-e5f67a8153f9"
      },
      "execution_count": 58,
      "outputs": [
        {
          "output_type": "stream",
          "name": "stdout",
          "text": [
            "11 / 15\n"
          ]
        }
      ]
    },
    {
      "cell_type": "code",
      "source": [
        "f1.multiply(f2)\n",
        "f1.print()"
      ],
      "metadata": {
        "colab": {
          "base_uri": "https://localhost:8080/"
        },
        "id": "34NWuDT14_c3",
        "outputId": "3b7b4e63-5381-4aab-8172-ecf21009cb9b"
      },
      "execution_count": 60,
      "outputs": [
        {
          "output_type": "stream",
          "name": "stdout",
          "text": [
            "11 / 45\n"
          ]
        }
      ]
    },
    {
      "cell_type": "code",
      "source": [
        "f1 = Fraction(9, 9)\n",
        "f2 = Fraction(9, 9)"
      ],
      "metadata": {
        "id": "urVJnpCs_PQ4"
      },
      "execution_count": 61,
      "outputs": []
    },
    {
      "cell_type": "code",
      "source": [
        "f1.multiply(f2)\n",
        "f1.print()"
      ],
      "metadata": {
        "colab": {
          "base_uri": "https://localhost:8080/"
        },
        "id": "g9G5oVPr_ek-",
        "outputId": "9accbdc1-f02e-405a-e96a-1762eb7946ee"
      },
      "execution_count": 62,
      "outputs": [
        {
          "output_type": "stream",
          "name": "stdout",
          "text": [
            "1\n"
          ]
        }
      ]
    },
    {
      "cell_type": "code",
      "source": [],
      "metadata": {
        "id": "Z4i3zkAk_hiA"
      },
      "execution_count": null,
      "outputs": []
    }
  ]
}