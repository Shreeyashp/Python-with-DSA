{
  "nbformat": 4,
  "nbformat_minor": 0,
  "metadata": {
    "colab": {
      "provenance": []
    },
    "kernelspec": {
      "name": "python3",
      "display_name": "Python 3"
    },
    "language_info": {
      "name": "python"
    }
  },
  "cells": [
    {
      "cell_type": "code",
      "source": [
        "class Fraction:\n",
        "  \n",
        "  def __init__(self, num, den):\n",
        "    self.num = num\n",
        "    self.den = den\n",
        "  \n",
        "  def print(self):\n",
        "    print(self.num, '/', self.den)"
      ],
      "metadata": {
        "id": "MU9ZvK8jlKxR"
      },
      "execution_count": 24,
      "outputs": []
    },
    {
      "cell_type": "code",
      "source": [
        "f = Fraction(2,3)"
      ],
      "metadata": {
        "id": "IWKZ_KG4lH2L"
      },
      "execution_count": 25,
      "outputs": []
    },
    {
      "cell_type": "code",
      "source": [
        "f.print()"
      ],
      "metadata": {
        "colab": {
          "base_uri": "https://localhost:8080/"
        },
        "id": "Ct5sg1kD0e_N",
        "outputId": "9a56b5de-c0d6-4dd4-c858-22f011cfbc35"
      },
      "execution_count": 26,
      "outputs": [
        {
          "output_type": "stream",
          "name": "stdout",
          "text": [
            "2 / 3\n"
          ]
        }
      ]
    },
    {
      "cell_type": "code",
      "source": [
        "class Fraction:\n",
        "  \n",
        "  def __init__(self, num = 0, den = 1):\n",
        "    self.num = num\n",
        "    self.den = den\n",
        "  \n",
        "  def print(self):\n",
        "    if self.num == 0:\n",
        "      print(0)\n",
        "    elif self.den==1:\n",
        "      print(self.num)\n",
        "    else:\n",
        "      print(self.num, '/', self.den)"
      ],
      "metadata": {
        "id": "-9T_nUBr0uxW"
      },
      "execution_count": 35,
      "outputs": []
    },
    {
      "cell_type": "code",
      "source": [
        "f = Fraction(2,1)"
      ],
      "metadata": {
        "id": "-Hqljf_v0ut9"
      },
      "execution_count": 36,
      "outputs": []
    },
    {
      "cell_type": "code",
      "source": [
        "f.print()"
      ],
      "metadata": {
        "colab": {
          "base_uri": "https://localhost:8080/"
        },
        "id": "OxVyVgY80usX",
        "outputId": "44d22fa7-8de8-41b7-999e-8b4367874d1a"
      },
      "execution_count": 37,
      "outputs": [
        {
          "output_type": "stream",
          "name": "stdout",
          "text": [
            "2\n"
          ]
        }
      ]
    },
    {
      "cell_type": "code",
      "source": [
        "class Fraction:\n",
        "  \n",
        "  def __init__(self, num = 0, den = 1):\n",
        "    \n",
        "    if den == 0:\n",
        "      den = 1\n",
        "\n",
        "    self.num = num\n",
        "    self.den = den\n",
        "  \n",
        "  def print(self):\n",
        "    if self.num == 0:\n",
        "      print(0)\n",
        "    elif self.den==1:\n",
        "      print(self.num)\n",
        "    else:\n",
        "      print(self.num, '/', self.den)\n",
        "\n",
        "# if we want to divide it such as e.g 10/20 ans is 1/2 so for that we will create simplify funct:\n",
        "  def simplify(self):\n",
        "    current = min(self.num, self.den) \n",
        "    while current > 1:   # let current bigger than 1\n",
        "      if self.num % current == 0 and self.den % current == 0: \n",
        "        break\n",
        "      current -=1\n",
        "\n",
        "    # eg. 14/6 (6 does not div 14) current will use less than -1 i.e 5 (5 does not div 14) like this (4 does not div 14) (3 does not div 14)\n",
        "    # (2 div 14) and it will also div 6 i.e 7/3 \n",
        "    self.num = self.num//current\n",
        "    self.den = self.den//current"
      ],
      "metadata": {
        "id": "11-1xaoNmjmu"
      },
      "execution_count": 38,
      "outputs": []
    },
    {
      "cell_type": "code",
      "source": [
        "f = Fraction(14, 6)"
      ],
      "metadata": {
        "id": "6_xFhaNu1TaN"
      },
      "execution_count": 39,
      "outputs": []
    },
    {
      "cell_type": "code",
      "source": [
        "f.print()"
      ],
      "metadata": {
        "colab": {
          "base_uri": "https://localhost:8080/"
        },
        "id": "CJJu6ye11TWr",
        "outputId": "b7fcfe3f-a488-4db1-b6b5-9f88c2ca77b1"
      },
      "execution_count": 40,
      "outputs": [
        {
          "output_type": "stream",
          "name": "stdout",
          "text": [
            "14 / 6\n"
          ]
        }
      ]
    },
    {
      "cell_type": "code",
      "source": [
        "f.simplify()\n",
        "f.print()"
      ],
      "metadata": {
        "colab": {
          "base_uri": "https://localhost:8080/"
        },
        "id": "44nfNVS81TUZ",
        "outputId": "846ac5e1-7ab6-4165-8b57-01bd4895ffc3"
      },
      "execution_count": 42,
      "outputs": [
        {
          "output_type": "stream",
          "name": "stdout",
          "text": [
            "7 / 3\n"
          ]
        }
      ]
    },
    {
      "cell_type": "code",
      "source": [
        "f = Fraction(14, 5)\n",
        "f.print()"
      ],
      "metadata": {
        "colab": {
          "base_uri": "https://localhost:8080/"
        },
        "id": "Pie-H1YG1TRu",
        "outputId": "43361eec-ff07-41c5-f9cc-acf55c9d355c"
      },
      "execution_count": 44,
      "outputs": [
        {
          "output_type": "stream",
          "name": "stdout",
          "text": [
            "14 / 5\n"
          ]
        }
      ]
    },
    {
      "cell_type": "code",
      "source": [
        "f.simplify()\n",
        "f.print()"
      ],
      "metadata": {
        "colab": {
          "base_uri": "https://localhost:8080/"
        },
        "id": "CKooll5R1TPO",
        "outputId": "511250c2-c517-480f-a28e-7d29111aeeb0"
      },
      "execution_count": 45,
      "outputs": [
        {
          "output_type": "stream",
          "name": "stdout",
          "text": [
            "14 / 5\n"
          ]
        }
      ]
    },
    {
      "cell_type": "code",
      "source": [
        "f = Fraction(0, 5)\n",
        "f.print()"
      ],
      "metadata": {
        "colab": {
          "base_uri": "https://localhost:8080/"
        },
        "id": "VkaACPu71TM-",
        "outputId": "003deb8d-ddde-494d-e960-a03bbae1fe72"
      },
      "execution_count": 46,
      "outputs": [
        {
          "output_type": "stream",
          "name": "stdout",
          "text": [
            "0\n"
          ]
        }
      ]
    },
    {
      "cell_type": "code",
      "source": [
        "f.simplify()\n",
        "f.print()"
      ],
      "metadata": {
        "colab": {
          "base_uri": "https://localhost:8080/",
          "height": 287
        },
        "id": "AUeu4Ye_1TKg",
        "outputId": "883fc4a3-48c1-4177-ba82-9ad060685af7"
      },
      "execution_count": 47,
      "outputs": [
        {
          "output_type": "error",
          "ename": "ZeroDivisionError",
          "evalue": "ignored",
          "traceback": [
            "\u001b[0;31m---------------------------------------------------------------------------\u001b[0m",
            "\u001b[0;31mZeroDivisionError\u001b[0m                         Traceback (most recent call last)",
            "\u001b[0;32m<ipython-input-47-7b3dd8dd5358>\u001b[0m in \u001b[0;36m<module>\u001b[0;34m\u001b[0m\n\u001b[0;32m----> 1\u001b[0;31m \u001b[0mf\u001b[0m\u001b[0;34m.\u001b[0m\u001b[0msimplify\u001b[0m\u001b[0;34m(\u001b[0m\u001b[0;34m)\u001b[0m\u001b[0;34m\u001b[0m\u001b[0;34m\u001b[0m\u001b[0m\n\u001b[0m\u001b[1;32m      2\u001b[0m \u001b[0mf\u001b[0m\u001b[0;34m.\u001b[0m\u001b[0mprint\u001b[0m\u001b[0;34m(\u001b[0m\u001b[0;34m)\u001b[0m\u001b[0;34m\u001b[0m\u001b[0;34m\u001b[0m\u001b[0m\n",
            "\u001b[0;32m<ipython-input-38-084d13b95468>\u001b[0m in \u001b[0;36msimplify\u001b[0;34m(self)\u001b[0m\n\u001b[1;32m     23\u001b[0m         \u001b[0;32mbreak\u001b[0m\u001b[0;34m\u001b[0m\u001b[0;34m\u001b[0m\u001b[0m\n\u001b[1;32m     24\u001b[0m       \u001b[0mcurrent\u001b[0m \u001b[0;34m-=\u001b[0m\u001b[0;36m1\u001b[0m\u001b[0;34m\u001b[0m\u001b[0;34m\u001b[0m\u001b[0m\n\u001b[0;32m---> 25\u001b[0;31m     \u001b[0mself\u001b[0m\u001b[0;34m.\u001b[0m\u001b[0mnum\u001b[0m \u001b[0;34m=\u001b[0m \u001b[0mself\u001b[0m\u001b[0;34m.\u001b[0m\u001b[0mnum\u001b[0m\u001b[0;34m//\u001b[0m\u001b[0mcurrent\u001b[0m\u001b[0;34m\u001b[0m\u001b[0;34m\u001b[0m\u001b[0m\n\u001b[0m\u001b[1;32m     26\u001b[0m     \u001b[0mself\u001b[0m\u001b[0;34m.\u001b[0m\u001b[0mden\u001b[0m \u001b[0;34m=\u001b[0m \u001b[0mself\u001b[0m\u001b[0;34m.\u001b[0m\u001b[0mden\u001b[0m\u001b[0;34m//\u001b[0m\u001b[0mcurrent\u001b[0m\u001b[0;34m\u001b[0m\u001b[0;34m\u001b[0m\u001b[0m\n",
            "\u001b[0;31mZeroDivisionError\u001b[0m: integer division or modulo by zero"
          ]
        }
      ]
    },
    {
      "cell_type": "markdown",
      "source": [
        "current  is > 1 & we have given it 0 due to this it's giving error"
      ],
      "metadata": {
        "id": "uZLaNNwn4fMo"
      }
    },
    {
      "cell_type": "code",
      "source": [
        "class Fraction:\n",
        "  \n",
        "  def __init__(self, num = 0, den = 1):\n",
        "    \n",
        "    if den == 0:\n",
        "      den = 1\n",
        "\n",
        "    self.num = num\n",
        "    self.den = den\n",
        "  \n",
        "  def print(self):\n",
        "    if self.num == 0:\n",
        "      print(0)\n",
        "    elif self.den==1:\n",
        "      print(self.num)\n",
        "    else:\n",
        "      print(self.num, '/', self.den)\n",
        "\n",
        "  def simplify(self):\n",
        "    if self.num == 0:\n",
        "      self.den = 1\n",
        "      return\n",
        "    current = min(self.num, self.den)\n",
        "    while current > 1:\n",
        "      if self.num % current == 0 and self.den % current == 0:\n",
        "        break\n",
        "      current -=1\n",
        "    self.num = self.num//current\n",
        "    self.den = self.den//current"
      ],
      "metadata": {
        "id": "qrH9UpK11THc"
      },
      "execution_count": 48,
      "outputs": []
    },
    {
      "cell_type": "code",
      "source": [
        "f = Fraction(0, 5)\n",
        "f.print()"
      ],
      "metadata": {
        "colab": {
          "base_uri": "https://localhost:8080/"
        },
        "id": "laixJV1W1TE7",
        "outputId": "b912bc81-4387-4ac6-900a-84e2785cb310"
      },
      "execution_count": 49,
      "outputs": [
        {
          "output_type": "stream",
          "name": "stdout",
          "text": [
            "0\n"
          ]
        }
      ]
    },
    {
      "cell_type": "code",
      "source": [
        "f.simplify()\n",
        "f.print()"
      ],
      "metadata": {
        "colab": {
          "base_uri": "https://localhost:8080/"
        },
        "id": "YKumhiTu1TCT",
        "outputId": "3c1f8fc1-e0dc-47df-fabf-8f4e92616d24"
      },
      "execution_count": 50,
      "outputs": [
        {
          "output_type": "stream",
          "name": "stdout",
          "text": [
            "0\n"
          ]
        }
      ]
    },
    {
      "cell_type": "code",
      "source": [],
      "metadata": {
        "id": "34NWuDT14_c3"
      },
      "execution_count": null,
      "outputs": []
    }
  ]
}