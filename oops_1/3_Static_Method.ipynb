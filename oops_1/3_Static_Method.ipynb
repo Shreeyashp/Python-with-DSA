{
  "nbformat": 4,
  "nbformat_minor": 0,
  "metadata": {
    "colab": {
      "provenance": []
    },
    "kernelspec": {
      "name": "python3",
      "display_name": "Python 3"
    },
    "language_info": {
      "name": "python"
    }
  },
  "cells": [
    {
      "cell_type": "code",
      "source": [
        "class Student():\n",
        "    \n",
        "    passingPercentage = 40\n",
        "    \n",
        "    def Studentdetails(self):\n",
        "        self.name = 'Parikh'\n",
        "        self.percentage = 80\n",
        "        print('name = ',self.name)\n",
        "        print('percentage=',self.percentage)\n",
        "        pass\n",
        "    \n",
        "    def isPassed(self):\n",
        "        if self.percentage > Student.passingPercentage:\n",
        "            print('Student is passed')\n",
        "        else:\n",
        "            print('not passed')\n",
        "            \n",
        "      \n",
        "    def welcometocschool():\n",
        "        print('hey welcometoschool')\n",
        "    \n",
        "            \n",
        "s1 = Student()\n",
        "s1.Studentdetails()\n",
        "s1.isPassed()                    \n",
        "s1.welcometocschool()"
      ],
      "metadata": {
        "colab": {
          "base_uri": "https://localhost:8080/",
          "height": 253
        },
        "id": "NE1qlZaAYZMz",
        "outputId": "2be12181-4927-4b43-be67-92e4e1ddcaef"
      },
      "execution_count": 42,
      "outputs": [
        {
          "output_type": "stream",
          "name": "stdout",
          "text": [
            "name =  Parikh\n",
            "percentage= 80\n",
            "Student is passed\n"
          ]
        },
        {
          "output_type": "error",
          "ename": "TypeError",
          "evalue": "ignored",
          "traceback": [
            "\u001b[0;31m---------------------------------------------------------------------------\u001b[0m",
            "\u001b[0;31mTypeError\u001b[0m                                 Traceback (most recent call last)",
            "\u001b[0;32m<ipython-input-42-c3403efee308>\u001b[0m in \u001b[0;36m<module>\u001b[0;34m\u001b[0m\n\u001b[1;32m     24\u001b[0m \u001b[0ms1\u001b[0m\u001b[0;34m.\u001b[0m\u001b[0mStudentdetails\u001b[0m\u001b[0;34m(\u001b[0m\u001b[0;34m)\u001b[0m\u001b[0;34m\u001b[0m\u001b[0;34m\u001b[0m\u001b[0m\n\u001b[1;32m     25\u001b[0m \u001b[0ms1\u001b[0m\u001b[0;34m.\u001b[0m\u001b[0misPassed\u001b[0m\u001b[0;34m(\u001b[0m\u001b[0;34m)\u001b[0m\u001b[0;34m\u001b[0m\u001b[0;34m\u001b[0m\u001b[0m\n\u001b[0;32m---> 26\u001b[0;31m \u001b[0ms1\u001b[0m\u001b[0;34m.\u001b[0m\u001b[0mwelcometocschool\u001b[0m\u001b[0;34m(\u001b[0m\u001b[0;34m)\u001b[0m\u001b[0;34m\u001b[0m\u001b[0;34m\u001b[0m\u001b[0m\n\u001b[0m",
            "\u001b[0;31mTypeError\u001b[0m: welcometocschool() takes 0 positional arguments but 1 was given"
          ]
        }
      ]
    },
    {
      "cell_type": "markdown",
      "source": [
        "* got error because we have not pass any arguments i.e self \n",
        "* but we have to not pass self here so what to do lets see"
      ],
      "metadata": {
        "id": "gWfSBNd-Yjqb"
      }
    },
    {
      "cell_type": "code",
      "source": [],
      "metadata": {
        "id": "_11hUuRfYZJl"
      },
      "execution_count": null,
      "outputs": []
    },
    {
      "cell_type": "code",
      "source": [
        "class Student():\n",
        "    \n",
        "    passingPercentage = 40\n",
        "    \n",
        "    def Studentdetails(self):\n",
        "        self.name = 'Parikh'\n",
        "        self.percentage = 80\n",
        "        print('name = ',self.name)\n",
        "        print('percentage=',self.percentage)\n",
        "        pass\n",
        "    \n",
        "    def isPassed(self):\n",
        "        if self.percentage > Student.passingPercentage:\n",
        "            print('Student is passed')\n",
        "        else:\n",
        "            print('not passed')\n",
        "            \n",
        "    \n",
        "    @staticmethod   #  this decorater will ignore first argument \n",
        "    def welcometocschool():\n",
        "        print('hey welcometoschool')\n",
        "    \n",
        "            \n",
        "s1 = Student()\n",
        "s1.Studentdetails()\n",
        "s1.isPassed()                    \n",
        "s1.welcometocschool()"
      ],
      "metadata": {
        "colab": {
          "base_uri": "https://localhost:8080/"
        },
        "id": "EraXBT1AYZHW",
        "outputId": "70e6eada-d7bb-4a89-d50e-e0e37670ed79"
      },
      "execution_count": 43,
      "outputs": [
        {
          "output_type": "stream",
          "name": "stdout",
          "text": [
            "name =  Parikh\n",
            "percentage= 80\n",
            "Student is passed\n",
            "hey welcometoschool\n"
          ]
        }
      ]
    },
    {
      "cell_type": "markdown",
      "source": [
        "* to overcome this error :\n",
        "  \n",
        "  use decorater @sataticmethod\n",
        "  \n",
        "  this decorater will ignore first argument "
      ],
      "metadata": {
        "id": "nWv_nVIDY9os"
      }
    },
    {
      "cell_type": "code",
      "source": [],
      "metadata": {
        "id": "yvl6zzaWYZFK"
      },
      "execution_count": null,
      "outputs": []
    }
  ]
}