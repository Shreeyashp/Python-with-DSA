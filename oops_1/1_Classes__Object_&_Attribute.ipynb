{
  "nbformat": 4,
  "nbformat_minor": 0,
  "metadata": {
    "colab": {
      "provenance": []
    },
    "kernelspec": {
      "name": "python3",
      "display_name": "Python 3"
    },
    "language_info": {
      "name": "python"
    }
  },
  "cells": [
    {
      "cell_type": "code",
      "source": [
        "class student: \n",
        "  pass # empty class"
      ],
      "metadata": {
        "id": "C6ho_RXvSSjp"
      },
      "execution_count": 12,
      "outputs": []
    },
    {
      "cell_type": "code",
      "source": [
        "s1 = student()\n",
        "print(s1)"
      ],
      "metadata": {
        "colab": {
          "base_uri": "https://localhost:8080/"
        },
        "id": "sBKzFj_cSgxe",
        "outputId": "10821085-ffb2-44d8-dee0-fae05313e250"
      },
      "execution_count": 13,
      "outputs": [
        {
          "output_type": "stream",
          "name": "stdout",
          "text": [
            "<__main__.student object at 0x7fe3b33ba2b0>\n"
          ]
        }
      ]
    },
    {
      "cell_type": "code",
      "source": [
        "print(type(s1))"
      ],
      "metadata": {
        "colab": {
          "base_uri": "https://localhost:8080/"
        },
        "id": "DtmYE0EgSrgd",
        "outputId": "a251e7a6-061d-407f-d8d4-6ead9f5b3874"
      },
      "execution_count": 14,
      "outputs": [
        {
          "output_type": "stream",
          "name": "stdout",
          "text": [
            "<class '__main__.student'>\n"
          ]
        }
      ]
    },
    {
      "cell_type": "code",
      "source": [
        "s1 = Student()\n",
        "s2 = Student()\n",
        "s3 = Student()"
      ],
      "metadata": {
        "id": "aJXEjVIDSv-j"
      },
      "execution_count": 15,
      "outputs": []
    },
    {
      "cell_type": "markdown",
      "source": [
        "### **Adding Attributes in object**"
      ],
      "metadata": {
        "id": "O7Eaf1e5S457"
      }
    },
    {
      "cell_type": "code",
      "source": [
        "s1.name = 'Shree'\n",
        "s3.name = 'Raju'"
      ],
      "metadata": {
        "id": "vbGHzezWS2u2"
      },
      "execution_count": 25,
      "outputs": []
    },
    {
      "cell_type": "code",
      "source": [
        "s2.rollno = 10"
      ],
      "metadata": {
        "id": "96TRheXdS-lw"
      },
      "execution_count": 18,
      "outputs": []
    },
    {
      "cell_type": "code",
      "source": [
        "s3.rollno = 11"
      ],
      "metadata": {
        "id": "jx3dUrH7S-iS"
      },
      "execution_count": 19,
      "outputs": []
    },
    {
      "cell_type": "code",
      "source": [
        "s1.__dict__\n",
        "# __dict__  = to check all atributes in object at a time"
      ],
      "metadata": {
        "colab": {
          "base_uri": "https://localhost:8080/"
        },
        "id": "zRPxmVDaS-fk",
        "outputId": "af865b49-0e0b-4165-8fa7-d31e2a2676ed"
      },
      "execution_count": 20,
      "outputs": [
        {
          "output_type": "execute_result",
          "data": {
            "text/plain": [
              "{'name': 'Shree'}"
            ]
          },
          "metadata": {},
          "execution_count": 20
        }
      ]
    },
    {
      "cell_type": "code",
      "source": [
        "s2.__dict__"
      ],
      "metadata": {
        "colab": {
          "base_uri": "https://localhost:8080/"
        },
        "id": "he2bGCNQS-dX",
        "outputId": "1eb72ea6-21e0-46fe-a90e-178d6ca99302"
      },
      "execution_count": 21,
      "outputs": [
        {
          "output_type": "execute_result",
          "data": {
            "text/plain": [
              "{'rollno': 10}"
            ]
          },
          "metadata": {},
          "execution_count": 21
        }
      ]
    },
    {
      "cell_type": "code",
      "source": [
        "s3.__dict__"
      ],
      "metadata": {
        "colab": {
          "base_uri": "https://localhost:8080/"
        },
        "id": "Wdkp2C10TRWu",
        "outputId": "e19031f3-fd56-43d9-e79a-a4bf64bc46b7"
      },
      "execution_count": 26,
      "outputs": [
        {
          "output_type": "execute_result",
          "data": {
            "text/plain": [
              "{'rollno': 11, 'name': 'Raju'}"
            ]
          },
          "metadata": {},
          "execution_count": 26
        }
      ]
    },
    {
      "cell_type": "code",
      "source": [
        "s2.name "
      ],
      "metadata": {
        "colab": {
          "base_uri": "https://localhost:8080/",
          "height": 166
        },
        "id": "2Lb0bJ7GTY8t",
        "outputId": "47b689dd-2608-4dfd-fb79-f50b6391f6d3"
      },
      "execution_count": 27,
      "outputs": [
        {
          "output_type": "error",
          "ename": "AttributeError",
          "evalue": "ignored",
          "traceback": [
            "\u001b[0;31m---------------------------------------------------------------------------\u001b[0m",
            "\u001b[0;31mAttributeError\u001b[0m                            Traceback (most recent call last)",
            "\u001b[0;32m<ipython-input-27-928a92cd0182>\u001b[0m in \u001b[0;36m<module>\u001b[0;34m\u001b[0m\n\u001b[0;32m----> 1\u001b[0;31m \u001b[0ms2\u001b[0m\u001b[0;34m.\u001b[0m\u001b[0mname\u001b[0m\u001b[0;34m\u001b[0m\u001b[0;34m\u001b[0m\u001b[0m\n\u001b[0m",
            "\u001b[0;31mAttributeError\u001b[0m: 'Student' object has no attribute 'name'"
          ]
        }
      ]
    },
    {
      "cell_type": "markdown",
      "source": [
        "name attribute is not presented in object"
      ],
      "metadata": {
        "id": "G2BK3Ot0TpxY"
      }
    },
    {
      "cell_type": "markdown",
      "source": [
        "### **get attribute**"
      ],
      "metadata": {
        "id": "0F4YFGegT1l9"
      }
    },
    {
      "cell_type": "code",
      "source": [
        "getattr(s1,\"name\")"
      ],
      "metadata": {
        "colab": {
          "base_uri": "https://localhost:8080/",
          "height": 35
        },
        "id": "6IFfde5HToLR",
        "outputId": "a5a7e637-2ce8-4d86-e54a-1167dcb6cf32"
      },
      "execution_count": 28,
      "outputs": [
        {
          "output_type": "execute_result",
          "data": {
            "text/plain": [
              "'Shree'"
            ],
            "application/vnd.google.colaboratory.intrinsic+json": {
              "type": "string"
            }
          },
          "metadata": {},
          "execution_count": 28
        }
      ]
    },
    {
      "cell_type": "code",
      "source": [
        "\n",
        "getattr(s1,\"class\",'')"
      ],
      "metadata": {
        "colab": {
          "base_uri": "https://localhost:8080/",
          "height": 35
        },
        "id": "3KLjWPNxT5cP",
        "outputId": "74837e1f-684e-410f-9d07-e11d86e26d02"
      },
      "execution_count": 29,
      "outputs": [
        {
          "output_type": "execute_result",
          "data": {
            "text/plain": [
              "''"
            ],
            "application/vnd.google.colaboratory.intrinsic+json": {
              "type": "string"
            }
          },
          "metadata": {},
          "execution_count": 29
        }
      ]
    },
    {
      "cell_type": "markdown",
      "source": [
        "### **Delete attribute in object**"
      ],
      "metadata": {
        "id": "dFQPz7n2T8jr"
      }
    },
    {
      "cell_type": "code",
      "source": [
        "delattr(s1,\"name\")"
      ],
      "metadata": {
        "id": "Za_4AV68T61v"
      },
      "execution_count": 30,
      "outputs": []
    },
    {
      "cell_type": "code",
      "source": [
        "s1.__dict__"
      ],
      "metadata": {
        "colab": {
          "base_uri": "https://localhost:8080/"
        },
        "id": "L0smxSJlUC63",
        "outputId": "06841b5d-d86a-43e9-a925-502c934653e2"
      },
      "execution_count": 31,
      "outputs": [
        {
          "output_type": "execute_result",
          "data": {
            "text/plain": [
              "{}"
            ]
          },
          "metadata": {},
          "execution_count": 31
        }
      ]
    },
    {
      "cell_type": "code",
      "source": [],
      "metadata": {
        "id": "HlOYaNahUFN7"
      },
      "execution_count": null,
      "outputs": []
    }
  ]
}