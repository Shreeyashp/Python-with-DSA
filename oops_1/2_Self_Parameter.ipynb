{
  "nbformat": 4,
  "nbformat_minor": 0,
  "metadata": {
    "colab": {
      "provenance": []
    },
    "kernelspec": {
      "name": "python3",
      "display_name": "Python 3"
    },
    "language_info": {
      "name": "python"
    }
  },
  "cells": [
    {
      "cell_type": "code",
      "source": [
        "class student():\n",
        "\n",
        "  def studentdetials(self):\n",
        "    self.name = 'shree'\n",
        "    print('name = ',self.name)"
      ],
      "metadata": {
        "id": "0h_jP0HEVCj6"
      },
      "execution_count": 32,
      "outputs": []
    },
    {
      "cell_type": "code",
      "source": [
        "s1 = student()"
      ],
      "metadata": {
        "id": "lPwOijgnVCgk"
      },
      "execution_count": 34,
      "outputs": []
    },
    {
      "cell_type": "code",
      "source": [
        "s1.studentdetials()"
      ],
      "metadata": {
        "colab": {
          "base_uri": "https://localhost:8080/"
        },
        "id": "HF6anVMVVCc6",
        "outputId": "cb9be361-3f44-4eda-a6a0-b5de90653ec8"
      },
      "execution_count": 35,
      "outputs": [
        {
          "output_type": "stream",
          "name": "stdout",
          "text": [
            "name =  shree\n"
          ]
        }
      ]
    },
    {
      "cell_type": "code",
      "source": [
        "student.studentdetials(s1)"
      ],
      "metadata": {
        "colab": {
          "base_uri": "https://localhost:8080/"
        },
        "id": "rwn7WFu9VCbA",
        "outputId": "cc392d68-21df-46ea-ab60-da3ada16b4b9"
      },
      "execution_count": 37,
      "outputs": [
        {
          "output_type": "stream",
          "name": "stdout",
          "text": [
            "name =  shree\n"
          ]
        }
      ]
    },
    {
      "cell_type": "code",
      "source": [
        "class Student():\n",
        "    \n",
        "    def Studentdetails(self):\n",
        "        self.name = 'shree' # here self. i.e instance_attribute\n",
        "        # s1.name will available till s1 is present\n",
        "\n",
        "        percentage = 90  # here no self. i.e this attribute is only present into local of this function \n",
        "        print('name = ',self.name)\n",
        "        print('percentage=',percentage)\n",
        "        pass\n",
        "    \n",
        "s1 = Student()\n",
        "s1.Studentdetails()"
      ],
      "metadata": {
        "colab": {
          "base_uri": "https://localhost:8080/"
        },
        "id": "L5nTQbcCVCYj",
        "outputId": "a0ba3f42-940c-48fa-8c73-a0a46b103c76"
      },
      "execution_count": 39,
      "outputs": [
        {
          "output_type": "stream",
          "name": "stdout",
          "text": [
            "name =  shree\n",
            "percentage= 90\n"
          ]
        }
      ]
    },
    {
      "cell_type": "code",
      "source": [],
      "metadata": {
        "id": "rx66nJJuVCWZ"
      },
      "execution_count": null,
      "outputs": []
    },
    {
      "cell_type": "code",
      "source": [
        "class Student():\n",
        "    \n",
        "    passingPercentage = 40\n",
        "    \n",
        "    def Studentdetails(self):\n",
        "        self.name = 'shree'\n",
        "        self.percentage = 80\n",
        "        print('name = ',self.name)\n",
        "        print('percentage=',self.percentage)\n",
        "        pass\n",
        "    \n",
        "    def isPassed(self):\n",
        "        if self.percentage > Student.passingPercentage:\n",
        "            print('Student is passed')\n",
        "        else:\n",
        "            print('not passed')\n",
        "            \n",
        "\n",
        "    \n",
        "            \n",
        "s1 = Student()\n",
        "s1.Studentdetails()\n",
        "s1.isPassed()    "
      ],
      "metadata": {
        "colab": {
          "base_uri": "https://localhost:8080/"
        },
        "id": "pGC6r-DZVCT3",
        "outputId": "0308ecb5-3609-4bce-cfce-c3ed4a282337"
      },
      "execution_count": 38,
      "outputs": [
        {
          "output_type": "stream",
          "name": "stdout",
          "text": [
            "name =  Parikh\n",
            "percentage= 80\n",
            "Student is passed\n"
          ]
        }
      ]
    },
    {
      "cell_type": "code",
      "source": [
        "class Student():\n",
        "    \n",
        "    def Studentdetails(self):\n",
        "        self.name = 'shree'\n",
        "        percentage = 80\n",
        "        print('name = ',self.name)\n",
        "        print('percentage=',percentage)\n",
        "        pass\n",
        "    \n",
        "    def isPassed():\n",
        "        if percentage > Student.passingPercentage:\n",
        "            print('Student is passed')\n",
        "        else:\n",
        "            print('not passed')\n",
        "        \n",
        "    \n",
        "    \n",
        "s1 = Student()\n",
        "s1.Studentdetails()\n",
        "s1.passed()\n",
        "\n",
        "#due to percentage is local attribute rather than a instance attribute.\n",
        "# so self. is needed when u want to call attribute from 1 funct to second function"
      ],
      "metadata": {
        "colab": {
          "base_uri": "https://localhost:8080/",
          "height": 270
        },
        "id": "B40lNs4XVCRh",
        "outputId": "ef866a69-592d-4f17-bf6f-1656cc0906e0"
      },
      "execution_count": 41,
      "outputs": [
        {
          "output_type": "stream",
          "name": "stdout",
          "text": [
            "name =  Parikh\n",
            "percentage= 80\n"
          ]
        },
        {
          "output_type": "error",
          "ename": "AttributeError",
          "evalue": "ignored",
          "traceback": [
            "\u001b[0;31m---------------------------------------------------------------------------\u001b[0m",
            "\u001b[0;31mAttributeError\u001b[0m                            Traceback (most recent call last)",
            "\u001b[0;32m<ipython-input-41-467c2546f2b7>\u001b[0m in \u001b[0;36m<module>\u001b[0;34m\u001b[0m\n\u001b[1;32m     18\u001b[0m \u001b[0ms1\u001b[0m \u001b[0;34m=\u001b[0m \u001b[0mStudent\u001b[0m\u001b[0;34m(\u001b[0m\u001b[0;34m)\u001b[0m\u001b[0;34m\u001b[0m\u001b[0;34m\u001b[0m\u001b[0m\n\u001b[1;32m     19\u001b[0m \u001b[0ms1\u001b[0m\u001b[0;34m.\u001b[0m\u001b[0mStudentdetails\u001b[0m\u001b[0;34m(\u001b[0m\u001b[0;34m)\u001b[0m\u001b[0;34m\u001b[0m\u001b[0;34m\u001b[0m\u001b[0m\n\u001b[0;32m---> 20\u001b[0;31m \u001b[0ms1\u001b[0m\u001b[0;34m.\u001b[0m\u001b[0mpassed\u001b[0m\u001b[0;34m(\u001b[0m\u001b[0;34m)\u001b[0m\u001b[0;34m\u001b[0m\u001b[0;34m\u001b[0m\u001b[0m\n\u001b[0m\u001b[1;32m     21\u001b[0m \u001b[0;34m\u001b[0m\u001b[0m\n\u001b[1;32m     22\u001b[0m \u001b[0;31m#due to percentage is local attribute rather than a instance attribute.\u001b[0m\u001b[0;34m\u001b[0m\u001b[0;34m\u001b[0m\u001b[0;34m\u001b[0m\u001b[0m\n",
            "\u001b[0;31mAttributeError\u001b[0m: 'Student' object has no attribute 'passed'"
          ]
        }
      ]
    },
    {
      "cell_type": "code",
      "source": [],
      "metadata": {
        "id": "dDFi_yYxXU0O"
      },
      "execution_count": null,
      "outputs": []
    }
  ]
}