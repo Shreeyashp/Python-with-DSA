{
  "nbformat": 4,
  "nbformat_minor": 0,
  "metadata": {
    "colab": {
      "provenance": []
    },
    "kernelspec": {
      "name": "python3",
      "display_name": "Python 3"
    },
    "language_info": {
      "name": "python"
    }
  },
  "cells": [
    {
      "cell_type": "code",
      "source": [
        "class Student:\n",
        "  def __init__(self, name, age):\n",
        "    self.name = name\n",
        "    self.age = age\n",
        "\n",
        "  def printst(self):\n",
        "    print('my name is ', self.name, '& my age is ', self.age)"
      ],
      "metadata": {
        "id": "_hLikGw-jb3g"
      },
      "execution_count": 5,
      "outputs": []
    },
    {
      "cell_type": "code",
      "source": [
        "s1 = Student('shree', 22)"
      ],
      "metadata": {
        "id": "SiG-JOx7jb0N"
      },
      "execution_count": 6,
      "outputs": []
    },
    {
      "cell_type": "code",
      "source": [
        "Student.printst(s1)"
      ],
      "metadata": {
        "colab": {
          "base_uri": "https://localhost:8080/"
        },
        "id": "mapaStnfjbyH",
        "outputId": "880e35ef-9eb1-4fa7-f06b-fb4b43823784"
      },
      "execution_count": 7,
      "outputs": [
        {
          "output_type": "stream",
          "name": "stdout",
          "text": [
            "my name is  shree & my age is  22\n"
          ]
        }
      ]
    },
    {
      "cell_type": "code",
      "source": [
        "s1.__dict__"
      ],
      "metadata": {
        "colab": {
          "base_uri": "https://localhost:8080/"
        },
        "id": "W8LAM1EOkErs",
        "outputId": "3b40f062-215b-42f9-d93b-542d103e2cfd"
      },
      "execution_count": 8,
      "outputs": [
        {
          "output_type": "execute_result",
          "data": {
            "text/plain": [
              "{'name': 'shree', 'age': 22}"
            ]
          },
          "metadata": {},
          "execution_count": 8
        }
      ]
    },
    {
      "cell_type": "code",
      "source": [],
      "metadata": {
        "id": "qdyVjzQ8kIvk"
      },
      "execution_count": null,
      "outputs": []
    }
  ]
}