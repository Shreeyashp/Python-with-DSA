{
  "nbformat": 4,
  "nbformat_minor": 0,
  "metadata": {
    "colab": {
      "provenance": []
    },
    "kernelspec": {
      "name": "python3",
      "display_name": "Python 3"
    },
    "language_info": {
      "name": "python"
    }
  },
  "cells": [
    {
      "cell_type": "code",
      "source": [
        "class Vehicle:\n",
        "  def __init__(self, color, maxspeed):\n",
        "    self.color = color\n",
        "    self.__maxspeed = maxspeed\n",
        "\n",
        "  def getmaxspeed(self):\n",
        "    return self.__maxspeed\n",
        "\n",
        "  def setmaxspeed(self, maxspeed):\n",
        "    self.__maxspeed = maxspeed\n",
        "\n",
        "class carVehicle(Vehicle):\n",
        "  def __init__(self, color, maxspeed, numGears, isConvertible):\n",
        "    super().__init__(color, maxspeed)\n",
        "    self.numGears = numGears\n",
        "    self.isConvertible = isConvertible\n",
        "    \n",
        "  def printcar(self):\n",
        "    print(\"color: \", self.color)\n",
        "    print(\"maxspeed: \", self.getmaxspeed())\n",
        "    print(\"numGears: \", self.numGears)\n",
        "    print(\"isConvertible: \", self.isConvertible)"
      ],
      "metadata": {
        "id": "Z4i3zkAk_hiA"
      },
      "execution_count": 14,
      "outputs": []
    },
    {
      "cell_type": "code",
      "source": [
        "c = carVehicle(\"red\", 15, 3, False)"
      ],
      "metadata": {
        "id": "kv_LcejGNF2P"
      },
      "execution_count": 15,
      "outputs": []
    },
    {
      "cell_type": "code",
      "source": [
        "c.printcar()"
      ],
      "metadata": {
        "colab": {
          "base_uri": "https://localhost:8080/"
        },
        "id": "CEcE-5JnNNRf",
        "outputId": "7dbe3e51-61f9-402e-bca7-829e8236cc97"
      },
      "execution_count": 16,
      "outputs": [
        {
          "output_type": "stream",
          "name": "stdout",
          "text": [
            "color:  red\n",
            "maxspeed:  15\n",
            "numGears:  3\n",
            "isConvertible:  False\n"
          ]
        }
      ]
    },
    {
      "cell_type": "markdown",
      "source": [
        "In above problem printcar is calling (color, getmaxspeed) but that work is of vehicle, So let's do that work."
      ],
      "metadata": {
        "id": "nyYU5YjHWW92"
      }
    },
    {
      "cell_type": "code",
      "source": [
        "class Vehicle:\n",
        "  def __init__(self, color, maxspeed):\n",
        "    self.color = color\n",
        "    self.__maxspeed = maxspeed\n",
        "\n",
        "  def getmaxspeed(self):\n",
        "    return self.__maxspeed\n",
        "\n",
        "  def setmaxspeed(self, maxspeed):\n",
        "    self.__maxspeed = maxspeed\n",
        "\n",
        "  def print(self):\n",
        "    print(\"color: \", self.color)\n",
        "    print(\"maxspeed: \", self.getmaxspeed())\n",
        "\n",
        "class carVehicle(Vehicle):\n",
        "  def __init__(self, color, maxspeed, numGears, isConvertible):\n",
        "    super().__init__(color, maxspeed)\n",
        "    self.numGears = numGears\n",
        "    self.isConvertible = isConvertible\n",
        "    \n",
        "  def printcar(self):\n",
        "    super().print()\n",
        "    # self.print()  you can use self.print instead of super().\n",
        "    print(\"numGears: \", self.numGears)\n",
        "    print(\"isConvertible: \", self.isConvertible)"
      ],
      "metadata": {
        "id": "ATLiUmtsNatE"
      },
      "execution_count": 23,
      "outputs": []
    },
    {
      "cell_type": "code",
      "source": [
        "c = carVehicle(\"red\", 15, 3, False)"
      ],
      "metadata": {
        "id": "VMloHjYmW5wB"
      },
      "execution_count": 24,
      "outputs": []
    },
    {
      "cell_type": "code",
      "source": [
        "c.printcar()"
      ],
      "metadata": {
        "colab": {
          "base_uri": "https://localhost:8080/"
        },
        "id": "d-IwG7hSW86T",
        "outputId": "98b5aa95-d7c7-4843-a92a-963d043feff9"
      },
      "execution_count": 25,
      "outputs": [
        {
          "output_type": "stream",
          "name": "stdout",
          "text": [
            "color:  red\n",
            "maxspeed:  15\n",
            "numGears:  3\n",
            "isConvertible:  False\n"
          ]
        }
      ]
    },
    {
      "cell_type": "code",
      "source": [],
      "metadata": {
        "id": "kCFlrTnPXANd"
      },
      "execution_count": 25,
      "outputs": []
    }
  ]
}