{
  "nbformat": 4,
  "nbformat_minor": 0,
  "metadata": {
    "colab": {
      "provenance": []
    },
    "kernelspec": {
      "name": "python3",
      "display_name": "Python 3"
    },
    "language_info": {
      "name": "python"
    }
  },
  "cells": [
    {
      "cell_type": "code",
      "source": [
        "class Point:\n",
        "    \n",
        "    def __init__(self,x,y):\n",
        "        self.__x = x\n",
        "        self.__y = y\n",
        "        \n",
        "    def __str__(self):\n",
        "        return \"This point is at (\"+ str(self.__x) +\",\"+ str (self.__y)+\")\"\n",
        "    \n",
        "    def __add__(self,point_object):\n",
        "        return Point(self.__x+ point_object.__x,self.__y + point_object.__y)"
      ],
      "metadata": {
        "id": "7NejWKAbV-1E"
      },
      "execution_count": null,
      "outputs": []
    },
    {
      "cell_type": "code",
      "source": [
        "p1 = Point(1,2)\n",
        "p2 = Point(3,4)\n",
        "p3 = p1 + p2\n",
        "print(p3)"
      ],
      "metadata": {
        "id": "LNrPBZ3O5_z6"
      },
      "execution_count": null,
      "outputs": []
    },
    {
      "cell_type": "code",
      "source": [
        "import math\n",
        "class Point:\n",
        "    \n",
        "    def __init__(self,x,y):\n",
        "        self.__x = x\n",
        "        self.__y = y\n",
        "        \n",
        "    def __str__(self):\n",
        "        return \"This point is at (\"+ str(self.__x) +\",\"+ str (self.__y)+\")\"\n",
        "    \n",
        "    def __add__(self,point_object):\n",
        "        return Point(self.__x+ point_object.__x,self.__y + point_object.__y)\n",
        "    \n",
        "    def __it__(self,point_object):\n",
        "      return Point(self.__x**2 + self.__y**2)< math.sqrt(point_object.__x**2 + point_object.__y**2)"
      ],
      "metadata": {
        "id": "AyaBmk4e5_wo"
      },
      "execution_count": 39,
      "outputs": []
    },
    {
      "cell_type": "code",
      "source": [
        "p1 = Point(1,2)\n",
        "p2 = Point(3,4)\n",
        "p3 = p1 + p2\n",
        "print(p3)\n",
        "print(p2<p1)"
      ],
      "metadata": {
        "colab": {
          "base_uri": "https://localhost:8080/",
          "height": 223
        },
        "id": "ZO2AHcvA5_ub",
        "outputId": "6e778e20-31b8-434a-a841-ba01ee843b05"
      },
      "execution_count": 41,
      "outputs": [
        {
          "output_type": "stream",
          "name": "stdout",
          "text": [
            "This point is at (4,6)\n"
          ]
        },
        {
          "output_type": "error",
          "ename": "TypeError",
          "evalue": "ignored",
          "traceback": [
            "\u001b[0;31m---------------------------------------------------------------------------\u001b[0m",
            "\u001b[0;31mTypeError\u001b[0m                                 Traceback (most recent call last)",
            "\u001b[0;32m<ipython-input-41-6cf2b008e8de>\u001b[0m in \u001b[0;36m<module>\u001b[0;34m\u001b[0m\n\u001b[1;32m      3\u001b[0m \u001b[0mp3\u001b[0m \u001b[0;34m=\u001b[0m \u001b[0mp1\u001b[0m \u001b[0;34m+\u001b[0m \u001b[0mp2\u001b[0m\u001b[0;34m\u001b[0m\u001b[0;34m\u001b[0m\u001b[0m\n\u001b[1;32m      4\u001b[0m \u001b[0mprint\u001b[0m\u001b[0;34m(\u001b[0m\u001b[0mp3\u001b[0m\u001b[0;34m)\u001b[0m\u001b[0;34m\u001b[0m\u001b[0;34m\u001b[0m\u001b[0m\n\u001b[0;32m----> 5\u001b[0;31m \u001b[0mprint\u001b[0m\u001b[0;34m(\u001b[0m\u001b[0mp2\u001b[0m\u001b[0;34m<\u001b[0m\u001b[0mp1\u001b[0m\u001b[0;34m)\u001b[0m\u001b[0;34m\u001b[0m\u001b[0;34m\u001b[0m\u001b[0m\n\u001b[0m",
            "\u001b[0;31mTypeError\u001b[0m: '<' not supported between instances of 'Point' and 'Point'"
          ]
        }
      ]
    },
    {
      "cell_type": "code",
      "source": [],
      "metadata": {
        "id": "rFiq1irq5_r-"
      },
      "execution_count": null,
      "outputs": []
    },
    {
      "cell_type": "code",
      "source": [],
      "metadata": {
        "id": "RTuJpx3b5_ps"
      },
      "execution_count": null,
      "outputs": []
    }
  ]
}