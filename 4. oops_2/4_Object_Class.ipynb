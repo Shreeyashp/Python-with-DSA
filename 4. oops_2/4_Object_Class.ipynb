{
  "nbformat": 4,
  "nbformat_minor": 0,
  "metadata": {
    "colab": {
      "provenance": []
    },
    "kernelspec": {
      "name": "python3",
      "display_name": "Python 3"
    },
    "language_info": {
      "name": "python"
    }
  },
  "cells": [
    {
      "cell_type": "code",
      "source": [
        "class Circle:\n",
        "    \n",
        "    def __init__(self,radius):\n",
        "        self.radius = radius"
      ],
      "metadata": {
        "id": "7NejWKAbV-1E"
      },
      "execution_count": 42,
      "outputs": []
    },
    {
      "cell_type": "code",
      "source": [
        "c = Circle(3)\n",
        "print(c)"
      ],
      "metadata": {
        "colab": {
          "base_uri": "https://localhost:8080/"
        },
        "id": "LNrPBZ3O5_z6",
        "outputId": "bba917b9-66a0-4e63-8aae-264de1ccc0e5"
      },
      "execution_count": 43,
      "outputs": [
        {
          "output_type": "stream",
          "name": "stdout",
          "text": [
            "<__main__.Circle object at 0x7f97f40cbb80>\n"
          ]
        }
      ]
    },
    {
      "cell_type": "code",
      "source": [
        "class Circle:\n",
        "    \n",
        "    def __init__(self,radius):\n",
        "        self.radius = radius\n",
        "        \n",
        "    def __str__ (self):\n",
        "        return 'this is a Circle Cls which takes radius as an argument'"
      ],
      "metadata": {
        "id": "AyaBmk4e5_wo"
      },
      "execution_count": 46,
      "outputs": []
    },
    {
      "cell_type": "code",
      "source": [
        "c = Circle(3)\n",
        "print(c)"
      ],
      "metadata": {
        "colab": {
          "base_uri": "https://localhost:8080/"
        },
        "id": "ZO2AHcvA5_ub",
        "outputId": "795dfe31-7843-4f07-94f1-d63a8e9cb94d"
      },
      "execution_count": 47,
      "outputs": [
        {
          "output_type": "stream",
          "name": "stdout",
          "text": [
            "this is a Circle Cls which takes radius as an argument\n"
          ]
        }
      ]
    },
    {
      "cell_type": "code",
      "source": [
        "c.__dict__"
      ],
      "metadata": {
        "colab": {
          "base_uri": "https://localhost:8080/"
        },
        "id": "rFiq1irq5_r-",
        "outputId": "d47d7d7c-0545-4c42-97fe-0ddb1979eced"
      },
      "execution_count": 48,
      "outputs": [
        {
          "output_type": "execute_result",
          "data": {
            "text/plain": [
              "{'radius': 3}"
            ]
          },
          "metadata": {},
          "execution_count": 48
        }
      ]
    },
    {
      "cell_type": "code",
      "source": [],
      "metadata": {
        "id": "RTuJpx3b5_ps"
      },
      "execution_count": null,
      "outputs": []
    }
  ]
}