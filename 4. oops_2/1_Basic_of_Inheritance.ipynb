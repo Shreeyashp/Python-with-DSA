{
  "nbformat": 4,
  "nbformat_minor": 0,
  "metadata": {
    "colab": {
      "provenance": []
    },
    "kernelspec": {
      "name": "python3",
      "display_name": "Python 3"
    },
    "language_info": {
      "name": "python"
    }
  },
  "cells": [
    {
      "cell_type": "code",
      "source": [
        "class Vehicle:\n",
        "  def __init__(self, color, maxspeed):\n",
        "    self.color = color\n",
        "    self.maxspeed = maxspeed\n",
        "\n",
        "class carVehicle(Vehicle):\n",
        "  def __init__(self, color, maxspeed, numGears, isConvertible):\n",
        "    super().__init__(color, maxspeed)\n",
        "    self.numGears = numGears\n",
        "    self.isConvertible = isConvertible\n",
        "    \n",
        "  def printcar(self):\n",
        "    print(\"color: \", self.color)\n",
        "    print(\"maxspeed: \", self.maxspeed)\n",
        "    print(\"numGears: \", self.numGears)\n",
        "    print(\"isConvertible: \", self.isConvertible)"
      ],
      "metadata": {
        "id": "Z4i3zkAk_hiA"
      },
      "execution_count": 1,
      "outputs": []
    },
    {
      "cell_type": "code",
      "source": [
        "c=carVehicle(\"red\", 15, 3, False)"
      ],
      "metadata": {
        "id": "kv_LcejGNF2P"
      },
      "execution_count": 3,
      "outputs": []
    },
    {
      "cell_type": "code",
      "source": [
        "c.printcar()"
      ],
      "metadata": {
        "colab": {
          "base_uri": "https://localhost:8080/"
        },
        "id": "CEcE-5JnNNRf",
        "outputId": "71d08024-a13d-414e-abce-1699b96dc8dd"
      },
      "execution_count": 4,
      "outputs": [
        {
          "output_type": "stream",
          "name": "stdout",
          "text": [
            "color:  red\n",
            "maxspeed:  15\n",
            "numGears:  3\n",
            "isConvertible:  False\n"
          ]
        }
      ]
    },
    {
      "cell_type": "code",
      "source": [],
      "metadata": {
        "id": "ATLiUmtsNatE"
      },
      "execution_count": null,
      "outputs": []
    }
  ]
}