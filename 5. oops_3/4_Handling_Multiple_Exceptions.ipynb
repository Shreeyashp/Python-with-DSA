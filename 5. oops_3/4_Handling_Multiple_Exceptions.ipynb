{
  "nbformat": 4,
  "nbformat_minor": 0,
  "metadata": {
    "colab": {
      "provenance": []
    },
    "kernelspec": {
      "name": "python3",
      "display_name": "Python 3"
    },
    "language_info": {
      "name": "python"
    }
  },
  "cells": [
    {
      "cell_type": "code",
      "source": [
        "while True:\n",
        "  try:\n",
        "    a = int(input(\"enter the value: \"))\n",
        "    b = int(input(\"enter the value: \"))\n",
        "    print(a/b)\n",
        "    break\n",
        "  except ValueError:\n",
        "    print('give only int')\n",
        "  \n"
      ],
      "metadata": {
        "colab": {
          "base_uri": "https://localhost:8080/",
          "height": 277
        },
        "id": "Q3Hv2TZvGHwf",
        "outputId": "79527fc4-ed5c-43a7-8528-4869603be84e"
      },
      "execution_count": 15,
      "outputs": [
        {
          "name": "stdout",
          "output_type": "stream",
          "text": [
            "enter the value: 5\n",
            "enter the value: 0\n"
          ]
        },
        {
          "output_type": "error",
          "ename": "ZeroDivisionError",
          "evalue": "ignored",
          "traceback": [
            "\u001b[0;31m---------------------------------------------------------------------------\u001b[0m",
            "\u001b[0;31mZeroDivisionError\u001b[0m                         Traceback (most recent call last)",
            "\u001b[0;32m<ipython-input-15-bf67e35f96e9>\u001b[0m in \u001b[0;36m<module>\u001b[0;34m\u001b[0m\n\u001b[1;32m      3\u001b[0m     \u001b[0ma\u001b[0m \u001b[0;34m=\u001b[0m \u001b[0mint\u001b[0m\u001b[0;34m(\u001b[0m\u001b[0minput\u001b[0m\u001b[0;34m(\u001b[0m\u001b[0;34m\"enter the value: \"\u001b[0m\u001b[0;34m)\u001b[0m\u001b[0;34m)\u001b[0m\u001b[0;34m\u001b[0m\u001b[0;34m\u001b[0m\u001b[0m\n\u001b[1;32m      4\u001b[0m     \u001b[0mb\u001b[0m \u001b[0;34m=\u001b[0m \u001b[0mint\u001b[0m\u001b[0;34m(\u001b[0m\u001b[0minput\u001b[0m\u001b[0;34m(\u001b[0m\u001b[0;34m\"enter the value: \"\u001b[0m\u001b[0;34m)\u001b[0m\u001b[0;34m)\u001b[0m\u001b[0;34m\u001b[0m\u001b[0;34m\u001b[0m\u001b[0m\n\u001b[0;32m----> 5\u001b[0;31m     \u001b[0mprint\u001b[0m\u001b[0;34m(\u001b[0m\u001b[0ma\u001b[0m\u001b[0;34m/\u001b[0m\u001b[0mb\u001b[0m\u001b[0;34m)\u001b[0m\u001b[0;34m\u001b[0m\u001b[0;34m\u001b[0m\u001b[0m\n\u001b[0m\u001b[1;32m      6\u001b[0m     \u001b[0;32mbreak\u001b[0m\u001b[0;34m\u001b[0m\u001b[0;34m\u001b[0m\u001b[0m\n\u001b[1;32m      7\u001b[0m   \u001b[0;32mexcept\u001b[0m \u001b[0mValueError\u001b[0m\u001b[0;34m:\u001b[0m\u001b[0;34m\u001b[0m\u001b[0;34m\u001b[0m\u001b[0m\n",
            "\u001b[0;31mZeroDivisionError\u001b[0m: division by zero"
          ]
        }
      ]
    },
    {
      "cell_type": "code",
      "source": [
        "while True:\n",
        "  try:\n",
        "    a = int(input(\"enter the value: \"))\n",
        "    b = int(input(\"enter the value: \"))\n",
        "    print(a/b)\n",
        "    break\n",
        "  except ValueError:\n",
        "    print('give only int')\n",
        "  except ZeroDivisionError:\n",
        "    print('denominator should not be zero')\n"
      ],
      "metadata": {
        "colab": {
          "base_uri": "https://localhost:8080/"
        },
        "id": "46PuoDeAHG-o",
        "outputId": "e09a9ea0-afec-48c4-b21d-dab938ee29d9"
      },
      "execution_count": 16,
      "outputs": [
        {
          "output_type": "stream",
          "name": "stdout",
          "text": [
            "enter the value: 5\n",
            "enter the value: 0\n",
            "denominator should not be zero\n",
            "enter the value: 5\n",
            "enter the value: a\n",
            "give only int\n",
            "enter the value: 5\n",
            "enter the value: 5\n",
            "1.0\n"
          ]
        }
      ]
    },
    {
      "cell_type": "code",
      "source": [
        "while True:    \n",
        "    try:   \n",
        "        A = int(input('ENTER THE VALUE:'))\n",
        "        B = int(input('ENTER THE VALUE:'))\n",
        "        print(A/B)\n",
        "        break\n",
        "    except (ValueError,ZeroDivisionError):\n",
        "        print('A & B SHOULD BE INTEGER & B SHOULD NOT BE ZERO')"
      ],
      "metadata": {
        "colab": {
          "base_uri": "https://localhost:8080/"
        },
        "id": "f-XMcEJKHU2G",
        "outputId": "4108b101-b24c-47db-fd75-6cdbc4b33eff"
      },
      "execution_count": 17,
      "outputs": [
        {
          "output_type": "stream",
          "name": "stdout",
          "text": [
            "ENTER THE VALUE:10\n",
            "ENTER THE VALUE:a\n",
            "A & B SHOULD BE INTEGER & B SHOULD NOT BE ZERO\n",
            "ENTER THE VALUE:10\n",
            "ENTER THE VALUE:0\n",
            "A & B SHOULD BE INTEGER & B SHOULD NOT BE ZERO\n",
            "ENTER THE VALUE:10\n",
            "ENTER THE VALUE:10\n",
            "1.0\n"
          ]
        }
      ]
    }
  ]
}