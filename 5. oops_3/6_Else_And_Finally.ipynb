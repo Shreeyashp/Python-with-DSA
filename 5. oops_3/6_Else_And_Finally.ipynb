{
  "nbformat": 4,
  "nbformat_minor": 0,
  "metadata": {
    "colab": {
      "provenance": []
    },
    "kernelspec": {
      "name": "python3",
      "display_name": "Python 3"
    },
    "language_info": {
      "name": "python"
    }
  },
  "cells": [
    {
      "cell_type": "markdown",
      "source": [
        "if code doesnt find matching in except then it will go in else block\n"
      ],
      "metadata": {
        "id": "4dUvV147Tscv"
      }
    },
    {
      "cell_type": "code",
      "source": [
        "class ZeroDen_Error(ZeroDivisionError):\n",
        "    pass\n",
        "while True:\n",
        "    try:\n",
        "        n = int(input())\n",
        "        m = int(input())\n",
        "        if m==0:\n",
        "            raise ZeroDen_Error('Denominator should not be Zero')\n",
        "        # print(n/m)\n",
        "\n",
        "    except ValueError:\n",
        "        print('A & B SHOULD BE INTEGER')\n",
        "    except ZeroDen_Error:\n",
        "      print(\"hello, Denominator should not be Zero\")\n",
        "    except ZeroDivisionError:\n",
        "        print('ZeroDivisionError: B SHOULD NOT BE ZERO')\n",
        "    except:\n",
        "      print('some exception is raised') # first it will go in ValueError:, ZeroDen_Error:, ZeroDivisionError:\n",
        "                                           # then it will come in this except block\n",
        "    else:\n",
        "      print(n/m)\n",
        "      break"
      ],
      "metadata": {
        "colab": {
          "base_uri": "https://localhost:8080/"
        },
        "id": "ensUx0BTLWn3",
        "outputId": "28952cf8-5701-4379-a1e7-89c61aca9a86"
      },
      "execution_count": 31,
      "outputs": [
        {
          "output_type": "stream",
          "name": "stdout",
          "text": [
            "8\n",
            "9\n",
            "0.8888888888888888\n",
            "0.8888888888888888\n"
          ]
        }
      ]
    },
    {
      "cell_type": "code",
      "source": [
        "class ZeroDenominatorError(Exception):\n",
        "    pass\n",
        "while True:\n",
        "    try:\n",
        "        n = int(input())\n",
        "        m = int(input())\n",
        "        if m==0:\n",
        "            raise ZeroDenominatorError('Denominator should not be Zero')\n",
        "    except ValueError:\n",
        "        print('A & B SHOULD BE INTEGER')\n",
        "    except ZeroDivisionError:\n",
        "        print('B SHOULD NOT BE ZERO') \n",
        "    else:\n",
        "        print(n/m)\n",
        "        break"
      ],
      "metadata": {
        "colab": {
          "base_uri": "https://localhost:8080/"
        },
        "id": "CXjjxybkNh2M",
        "outputId": "3521bc21-cc4a-4933-c803-445a301e4f46"
      },
      "execution_count": 32,
      "outputs": [
        {
          "output_type": "stream",
          "name": "stdout",
          "text": [
            "9\n",
            "8\n",
            "1.125\n"
          ]
        }
      ]
    },
    {
      "cell_type": "code",
      "source": [
        "class ZeroDenominatorError(Exception):\n",
        "    pass\n",
        "while True:\n",
        "    try:\n",
        "        n = int(input())\n",
        "        m = int(input())\n",
        "        if m==0:\n",
        "            raise ZeroDenominatorError('Denominator should not be Zero')\n",
        "    except ValueError:\n",
        "        print('A & B SHOULD BE INTEGER')\n",
        "    except ZeroDivisionError:\n",
        "        print('B SHOULD NOT BE ZERO') \n",
        "    else:\n",
        "        print(n/m)\n",
        "        break\n",
        "    finally:\n",
        "        print('OUTPUT PRINTED')"
      ],
      "metadata": {
        "colab": {
          "base_uri": "https://localhost:8080/",
          "height": 367
        },
        "id": "p9rdjHiRU_xj",
        "outputId": "5d215856-ebee-4cc3-e8fc-773ef946743c"
      },
      "execution_count": 33,
      "outputs": [
        {
          "output_type": "stream",
          "name": "stdout",
          "text": [
            "9\n",
            "k\n",
            "A & B SHOULD BE INTEGER\n",
            "OUTPUT PRINTED\n",
            "9\n",
            "0\n",
            "OUTPUT PRINTED\n"
          ]
        },
        {
          "output_type": "error",
          "ename": "ZeroDenominatorError",
          "evalue": "ignored",
          "traceback": [
            "\u001b[0;31m---------------------------------------------------------------------------\u001b[0m",
            "\u001b[0;31mZeroDenominatorError\u001b[0m                      Traceback (most recent call last)",
            "\u001b[0;32m<ipython-input-33-b0cfb59d6b4d>\u001b[0m in \u001b[0;36m<module>\u001b[0;34m\u001b[0m\n\u001b[1;32m      6\u001b[0m         \u001b[0mm\u001b[0m \u001b[0;34m=\u001b[0m \u001b[0mint\u001b[0m\u001b[0;34m(\u001b[0m\u001b[0minput\u001b[0m\u001b[0;34m(\u001b[0m\u001b[0;34m)\u001b[0m\u001b[0;34m)\u001b[0m\u001b[0;34m\u001b[0m\u001b[0;34m\u001b[0m\u001b[0m\n\u001b[1;32m      7\u001b[0m         \u001b[0;32mif\u001b[0m \u001b[0mm\u001b[0m\u001b[0;34m==\u001b[0m\u001b[0;36m0\u001b[0m\u001b[0;34m:\u001b[0m\u001b[0;34m\u001b[0m\u001b[0;34m\u001b[0m\u001b[0m\n\u001b[0;32m----> 8\u001b[0;31m             \u001b[0;32mraise\u001b[0m \u001b[0mZeroDenominatorError\u001b[0m\u001b[0;34m(\u001b[0m\u001b[0;34m'Denominator should not be Zero'\u001b[0m\u001b[0;34m)\u001b[0m\u001b[0;34m\u001b[0m\u001b[0;34m\u001b[0m\u001b[0m\n\u001b[0m\u001b[1;32m      9\u001b[0m     \u001b[0;32mexcept\u001b[0m \u001b[0mValueError\u001b[0m\u001b[0;34m:\u001b[0m\u001b[0;34m\u001b[0m\u001b[0;34m\u001b[0m\u001b[0m\n\u001b[1;32m     10\u001b[0m         \u001b[0mprint\u001b[0m\u001b[0;34m(\u001b[0m\u001b[0;34m'A & B SHOULD BE INTEGER'\u001b[0m\u001b[0;34m)\u001b[0m\u001b[0;34m\u001b[0m\u001b[0;34m\u001b[0m\u001b[0m\n",
            "\u001b[0;31mZeroDenominatorError\u001b[0m: Denominator should not be Zero"
          ]
        }
      ]
    },
    {
      "cell_type": "code",
      "source": [
        "class ZeroDenominatorError(Exception):\n",
        "    pass\n",
        "while True:\n",
        "    try:\n",
        "        n = int(input())\n",
        "        m = int(input())\n",
        "        if m==0:\n",
        "            raise ZeroDenominatorError('Denominator should not be Zero')\n",
        "    except ValueError:\n",
        "        print('A & B SHOULD BE INTEGER')\n",
        "    except ZeroDivisionError:\n",
        "        print('B SHOULD NOT BE ZERO') \n",
        "    else:\n",
        "        print(n/m)\n",
        "        break\n",
        "    finally:\n",
        "        print(n)\n",
        "        print(m)\n",
        "        print(n/m)\n",
        "        print('exception may or not be raised due to finally block')"
      ],
      "metadata": {
        "colab": {
          "base_uri": "https://localhost:8080/",
          "height": 313
        },
        "id": "ALyGNTPdVYvy",
        "outputId": "c9deb694-b83b-42d0-9dcf-ea66e95caf51"
      },
      "execution_count": 36,
      "outputs": [
        {
          "output_type": "stream",
          "name": "stdout",
          "text": [
            "9\n",
            "h\n",
            "A & B SHOULD BE INTEGER\n",
            "9\n",
            "0\n"
          ]
        },
        {
          "output_type": "error",
          "ename": "ZeroDivisionError",
          "evalue": "ignored",
          "traceback": [
            "\u001b[0;31m---------------------------------------------------------------------------\u001b[0m",
            "\u001b[0;31mZeroDivisionError\u001b[0m                         Traceback (most recent call last)",
            "\u001b[0;32m<ipython-input-36-ef1acca86c02>\u001b[0m in \u001b[0;36m<module>\u001b[0;34m\u001b[0m\n\u001b[1;32m     17\u001b[0m         \u001b[0mprint\u001b[0m\u001b[0;34m(\u001b[0m\u001b[0mn\u001b[0m\u001b[0;34m)\u001b[0m\u001b[0;34m\u001b[0m\u001b[0;34m\u001b[0m\u001b[0m\n\u001b[1;32m     18\u001b[0m         \u001b[0mprint\u001b[0m\u001b[0;34m(\u001b[0m\u001b[0mm\u001b[0m\u001b[0;34m)\u001b[0m\u001b[0;34m\u001b[0m\u001b[0;34m\u001b[0m\u001b[0m\n\u001b[0;32m---> 19\u001b[0;31m         \u001b[0mprint\u001b[0m\u001b[0;34m(\u001b[0m\u001b[0mn\u001b[0m\u001b[0;34m/\u001b[0m\u001b[0mm\u001b[0m\u001b[0;34m)\u001b[0m\u001b[0;34m\u001b[0m\u001b[0;34m\u001b[0m\u001b[0m\n\u001b[0m\u001b[1;32m     20\u001b[0m         \u001b[0mprint\u001b[0m\u001b[0;34m(\u001b[0m\u001b[0;34m'exception may or not be raised due to finally block'\u001b[0m\u001b[0;34m)\u001b[0m\u001b[0;34m\u001b[0m\u001b[0;34m\u001b[0m\u001b[0m\n",
            "\u001b[0;31mZeroDivisionError\u001b[0m: division by zero"
          ]
        }
      ]
    },
    {
      "cell_type": "code",
      "source": [],
      "metadata": {
        "id": "sxXx_VnqVYsc"
      },
      "execution_count": null,
      "outputs": []
    }
  ]
}