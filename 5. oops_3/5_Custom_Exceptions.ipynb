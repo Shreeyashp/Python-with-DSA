{
  "nbformat": 4,
  "nbformat_minor": 0,
  "metadata": {
    "colab": {
      "provenance": []
    },
    "kernelspec": {
      "name": "python3",
      "display_name": "Python 3"
    },
    "language_info": {
      "name": "python"
    }
  },
  "cells": [
    {
      "cell_type": "code",
      "source": [
        "while True:    \n",
        "    try:   \n",
        "        A = int(input('ENTER THE VALUE:'))\n",
        "        B = int(input('ENTER THE VALUE:'))\n",
        "        print(A/B)\n",
        "        break\n",
        "    except (ValueError,ZeroDivisionError):\n",
        "        print('A & B SHOULD BE INTEGER & B SHOULD NOT BE ZERO')"
      ],
      "metadata": {
        "colab": {
          "base_uri": "https://localhost:8080/"
        },
        "id": "f-XMcEJKHU2G",
        "outputId": "4108b101-b24c-47db-fd75-6cdbc4b33eff"
      },
      "execution_count": 17,
      "outputs": [
        {
          "output_type": "stream",
          "name": "stdout",
          "text": [
            "ENTER THE VALUE:10\n",
            "ENTER THE VALUE:a\n",
            "A & B SHOULD BE INTEGER & B SHOULD NOT BE ZERO\n",
            "ENTER THE VALUE:10\n",
            "ENTER THE VALUE:0\n",
            "A & B SHOULD BE INTEGER & B SHOULD NOT BE ZERO\n",
            "ENTER THE VALUE:10\n",
            "ENTER THE VALUE:10\n",
            "1.0\n"
          ]
        }
      ]
    },
    {
      "cell_type": "code",
      "source": [
        "while True:\n",
        "    try:\n",
        "        n = int(input())\n",
        "        m = int(input())\n",
        "        if m==0: #if denominator is 0, I will not allow him to div it by num, but will try to raise my exception\n",
        "            raise ZeroDenominatorError('Denominator should not be Zero')\n",
        "        print(n/m)\n",
        "        break\n",
        "    except ValueError:\n",
        "        print('A & B SHOULD BE INTEGER')\n",
        "    except ZeroDivisionError:\n",
        "        print('B SHOULD NOT BE ZERO')   "
      ],
      "metadata": {
        "colab": {
          "base_uri": "https://localhost:8080/",
          "height": 277
        },
        "id": "ZCaAJ5T9Kg8t",
        "outputId": "44a25eed-73ee-4dbe-aadd-2927103ce540"
      },
      "execution_count": 21,
      "outputs": [
        {
          "name": "stdout",
          "output_type": "stream",
          "text": [
            "9\n",
            "0\n"
          ]
        },
        {
          "output_type": "error",
          "ename": "ZeroDenominatorError",
          "evalue": "ignored",
          "traceback": [
            "\u001b[0;31m---------------------------------------------------------------------------\u001b[0m",
            "\u001b[0;31mZeroDenominatorError\u001b[0m                      Traceback (most recent call last)",
            "\u001b[0;32m<ipython-input-21-c261c468a84f>\u001b[0m in \u001b[0;36m<module>\u001b[0;34m\u001b[0m\n\u001b[1;32m      4\u001b[0m         \u001b[0mm\u001b[0m \u001b[0;34m=\u001b[0m \u001b[0mint\u001b[0m\u001b[0;34m(\u001b[0m\u001b[0minput\u001b[0m\u001b[0;34m(\u001b[0m\u001b[0;34m)\u001b[0m\u001b[0;34m)\u001b[0m\u001b[0;34m\u001b[0m\u001b[0;34m\u001b[0m\u001b[0m\n\u001b[1;32m      5\u001b[0m         \u001b[0;32mif\u001b[0m \u001b[0mm\u001b[0m\u001b[0;34m==\u001b[0m\u001b[0;36m0\u001b[0m\u001b[0;34m:\u001b[0m \u001b[0;31m#if denominator is 0, I will not allow him to div it by num, but will try to raise my exception\u001b[0m\u001b[0;34m\u001b[0m\u001b[0;34m\u001b[0m\u001b[0m\n\u001b[0;32m----> 6\u001b[0;31m             \u001b[0;32mraise\u001b[0m \u001b[0mZeroDenominatorError\u001b[0m\u001b[0;34m(\u001b[0m\u001b[0;34m'Denominator should not be Zero'\u001b[0m\u001b[0;34m)\u001b[0m\u001b[0;34m\u001b[0m\u001b[0;34m\u001b[0m\u001b[0m\n\u001b[0m\u001b[1;32m      7\u001b[0m         \u001b[0mprint\u001b[0m\u001b[0;34m(\u001b[0m\u001b[0mn\u001b[0m\u001b[0;34m/\u001b[0m\u001b[0mm\u001b[0m\u001b[0;34m)\u001b[0m\u001b[0;34m\u001b[0m\u001b[0;34m\u001b[0m\u001b[0m\n\u001b[1;32m      8\u001b[0m         \u001b[0;32mbreak\u001b[0m\u001b[0;34m\u001b[0m\u001b[0;34m\u001b[0m\u001b[0m\n",
            "\u001b[0;31mZeroDenominatorError\u001b[0m: Denominator should not be Zero"
          ]
        }
      ]
    },
    {
      "cell_type": "code",
      "source": [
        "class ZeroDenominatorError(Exception):\n",
        "    pass\n",
        "while True:\n",
        "    try:\n",
        "        n = int(input())\n",
        "        m = int(input())\n",
        "        if m==0: #if denominator is 0, I will not allow him to div it by num, but will try to raise my exception\n",
        "            raise ZeroDenominatorError('Hii, Denominator should not be Zero')\n",
        "        print(n/m)\n",
        "        break\n",
        "    except ValueError:\n",
        "        print('A & B SHOULD BE INTEGER')\n",
        "    except ZeroDivisionError:\n",
        "        print('B SHOULD NOT BE ZERO')    "
      ],
      "metadata": {
        "colab": {
          "base_uri": "https://localhost:8080/",
          "height": 277
        },
        "id": "jaxr2PliI253",
        "outputId": "0c7dfe0a-7239-4d7f-8aa8-2fc34e13f755"
      },
      "execution_count": 24,
      "outputs": [
        {
          "name": "stdout",
          "output_type": "stream",
          "text": [
            "9\n",
            "0\n"
          ]
        },
        {
          "output_type": "error",
          "ename": "ZeroDenominatorError",
          "evalue": "ignored",
          "traceback": [
            "\u001b[0;31m---------------------------------------------------------------------------\u001b[0m",
            "\u001b[0;31mZeroDenominatorError\u001b[0m                      Traceback (most recent call last)",
            "\u001b[0;32m<ipython-input-24-a1afb96d8e96>\u001b[0m in \u001b[0;36m<module>\u001b[0;34m\u001b[0m\n\u001b[1;32m      6\u001b[0m         \u001b[0mm\u001b[0m \u001b[0;34m=\u001b[0m \u001b[0mint\u001b[0m\u001b[0;34m(\u001b[0m\u001b[0minput\u001b[0m\u001b[0;34m(\u001b[0m\u001b[0;34m)\u001b[0m\u001b[0;34m)\u001b[0m\u001b[0;34m\u001b[0m\u001b[0;34m\u001b[0m\u001b[0m\n\u001b[1;32m      7\u001b[0m         \u001b[0;32mif\u001b[0m \u001b[0mm\u001b[0m\u001b[0;34m==\u001b[0m\u001b[0;36m0\u001b[0m\u001b[0;34m:\u001b[0m \u001b[0;31m#if denominator is 0, I will not allow him to div it by num, but will try to raise my exception\u001b[0m\u001b[0;34m\u001b[0m\u001b[0;34m\u001b[0m\u001b[0m\n\u001b[0;32m----> 8\u001b[0;31m             \u001b[0;32mraise\u001b[0m \u001b[0mZeroDenominatorError\u001b[0m\u001b[0;34m(\u001b[0m\u001b[0;34m'Hii, Denominator should not be Zero'\u001b[0m\u001b[0;34m)\u001b[0m\u001b[0;34m\u001b[0m\u001b[0;34m\u001b[0m\u001b[0m\n\u001b[0m\u001b[1;32m      9\u001b[0m         \u001b[0mprint\u001b[0m\u001b[0;34m(\u001b[0m\u001b[0mn\u001b[0m\u001b[0;34m/\u001b[0m\u001b[0mm\u001b[0m\u001b[0;34m)\u001b[0m\u001b[0;34m\u001b[0m\u001b[0;34m\u001b[0m\u001b[0m\n\u001b[1;32m     10\u001b[0m         \u001b[0;32mbreak\u001b[0m\u001b[0;34m\u001b[0m\u001b[0;34m\u001b[0m\u001b[0m\n",
            "\u001b[0;31mZeroDenominatorError\u001b[0m: Hii, Denominator should not be Zero"
          ]
        }
      ]
    },
    {
      "cell_type": "code",
      "source": [
        "class ZeroDenominatorError(Exception):\n",
        "    pass\n",
        "while True:\n",
        "    try:\n",
        "        n = int(input())\n",
        "        m = int(input())\n",
        "        if m==0:\n",
        "            raise ZeroDenominatorError('Denominator should not be Zero')\n",
        "        print(n/m)\n",
        "        break\n",
        "    except ValueError:\n",
        "        print('A & B SHOULD BE INTEGER')\n",
        "    except ZeroDivisionError:\n",
        "        print('B SHOULD NOT BE ZERO')\n",
        "    except ZeroDenominatorError:\n",
        "      print(\"hello, Denominator should not be Zero\")"
      ],
      "metadata": {
        "colab": {
          "base_uri": "https://localhost:8080/"
        },
        "id": "y6_avGFQJs_e",
        "outputId": "e5db76f6-3b72-4ad0-8c4c-875b72015ead"
      },
      "execution_count": 23,
      "outputs": [
        {
          "output_type": "stream",
          "name": "stdout",
          "text": [
            "10\n",
            "0\n",
            "hello, Denominator should not be Zero\n",
            "10\n",
            "p\n",
            "A & B SHOULD BE INTEGER\n",
            "10\n",
            "10\n",
            "1.0\n"
          ]
        }
      ]
    },
    {
      "cell_type": "code",
      "source": [
        "class ZeroDen_Error(ZeroDivisionError):\n",
        "    pass\n",
        "while True:\n",
        "    try:\n",
        "        n = int(input())\n",
        "        m = int(input())\n",
        "        if m==0:\n",
        "            raise ZeroDen_Error('Denominator should not be Zero')\n",
        "        print(n/m)\n",
        "        break\n",
        "    except ValueError:\n",
        "        print('A & B SHOULD BE INTEGER')\n",
        "    except ZeroDen_Error:\n",
        "      print(\"hello, Denominator should not be Zero\")\n",
        "    except ZeroDivisionError:\n",
        "        print('ZeroDivisionError: B SHOULD NOT BE ZERO')\n",
        "    except:\n",
        "      print('some exception is raised') # first it will go in ValueError:, ZeroDen_Error:, ZeroDivisionError:\n",
        "                                           # then it will come in this except block\n"
      ],
      "metadata": {
        "colab": {
          "base_uri": "https://localhost:8080/"
        },
        "id": "ensUx0BTLWn3",
        "outputId": "9b67d7ef-1482-4268-846b-98e8975a8e8b"
      },
      "execution_count": 29,
      "outputs": [
        {
          "output_type": "stream",
          "name": "stdout",
          "text": [
            "10\n",
            "0\n",
            "hello, Denominator should not be Zero\n",
            "10\n",
            "9\n",
            "1.1111111111111112\n"
          ]
        }
      ]
    },
    {
      "cell_type": "markdown",
      "source": [
        "whoever is going to  come first in matching will be call"
      ],
      "metadata": {
        "id": "60v2690KTD7S"
      }
    },
    {
      "cell_type": "code",
      "source": [],
      "metadata": {
        "id": "CXjjxybkNh2M"
      },
      "execution_count": null,
      "outputs": []
    }
  ]
}