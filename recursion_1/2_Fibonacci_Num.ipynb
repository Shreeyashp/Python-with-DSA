{
  "cells": [
    {
      "cell_type": "markdown",
      "source": [
        "# **Fibonacci Number using recursion:**\n",
        "    fib(n) = fib(n-1) + fib(n-2)\n",
        "    Base case: fib(1) = 1 "
      ],
      "metadata": {
        "id": "g2FDAIMQ-bg-"
      }
    },
    {
      "cell_type": "code",
      "source": [
        "# 1+1=2 \n",
        "# 2+1=3 \n",
        "# 3+2=5 \n",
        "# 5+3=8\n",
        "\n",
        "def fib(n):\n",
        "  if n==1 or n==2:\n",
        "    return 1\n",
        "  fib_1 = fib(n-1)\n",
        "  fib_2 = fib(n-2)\n",
        "  return fib_1 + fib_2"
      ],
      "metadata": {
        "id": "GSgyf6bbXv_4"
      },
      "execution_count": 3,
      "outputs": []
    },
    {
      "cell_type": "code",
      "source": [
        "n = int(input())\n",
        "print(fib(n))"
      ],
      "metadata": {
        "colab": {
          "base_uri": "https://localhost:8080/"
        },
        "id": "_soixChS42gm",
        "outputId": "2ea42d6e-f0e7-425f-c800-e92271bd0fcb"
      },
      "execution_count": 5,
      "outputs": [
        {
          "output_type": "stream",
          "name": "stdout",
          "text": [
            "6\n",
            "8\n"
          ]
        }
      ]
    },
    {
      "cell_type": "code",
      "source": [
        "def fib(n):\n",
        "  if n==1 or n==2:\n",
        "    return 1\n",
        "  return fib(n-1) + fib(n-2)\n",
        "fib(6)"
      ],
      "metadata": {
        "colab": {
          "base_uri": "https://localhost:8080/"
        },
        "id": "dvhEtk2V5m9n",
        "outputId": "475e1354-1d39-4238-8e94-b6841e71c100"
      },
      "execution_count": 6,
      "outputs": [
        {
          "output_type": "execute_result",
          "data": {
            "text/plain": [
              "8"
            ]
          },
          "metadata": {},
          "execution_count": 6
        }
      ]
    },
    {
      "cell_type": "code",
      "source": [
        "def fib(n):\n",
        "  if n==4:\n",
        "    return n\n",
        "  else:\n",
        "    return fib(n+1)*2\n",
        "  \n",
        "print(fib(2))"
      ],
      "metadata": {
        "colab": {
          "base_uri": "https://localhost:8080/"
        },
        "id": "9TlQ3SS87Gwn",
        "outputId": "e50092c1-316a-4ca8-82b8-082d130e5491"
      },
      "execution_count": 8,
      "outputs": [
        {
          "output_type": "stream",
          "name": "stdout",
          "text": [
            "16\n"
          ]
        }
      ]
    },
    {
      "cell_type": "code",
      "source": [
        "def fib(n):\n",
        "  if n==4:\n",
        "    return n\n",
        "  else:\n",
        "    return fib(n+1)*2\n",
        "  \n",
        "print(fib(2))"
      ],
      "metadata": {
        "colab": {
          "base_uri": "https://localhost:8080/"
        },
        "id": "xb7aG8Tc7ZjD",
        "outputId": "566bd512-30a0-4cb5-c540-0316ef74ba29"
      },
      "execution_count": 10,
      "outputs": [
        {
          "output_type": "stream",
          "name": "stdout",
          "text": [
            "16\n"
          ]
        }
      ]
    },
    {
      "cell_type": "markdown",
      "source": [
        "# Recursion_depth:"
      ],
      "metadata": {
        "id": "DbWBTyvh9WyQ"
      }
    },
    {
      "cell_type": "code",
      "source": [
        "def fib(n):\n",
        "  if n==0:\n",
        "    return 1\n",
        "  return n*fib(n-1)\n",
        "\n",
        "print(fib(515))"
      ],
      "metadata": {
        "colab": {
          "base_uri": "https://localhost:8080/"
        },
        "id": "Ih3wvMX97l-9",
        "outputId": "6acff67e-4e56-4a1d-c4ab-2101cc91574f"
      },
      "execution_count": 16,
      "outputs": [
        {
          "output_type": "stream",
          "name": "stdout",
          "text": [
            "47220284452488769841161805851958397295878342825141750260257789099459374438735718525457300367496862612140274732079422828593625468984698567841091986923598378700474148793545009595704888035716809916813906736154941630885732540841845410417608684617831993498678654356918812087268460760509973379870276614317050552880568817103004834655362928195416653901122588629387205760011223685132055117945883963427434530950076508226090382915442301439974621229735768109265876139921037277590846747062281970067192132263870730607688822029568462903084908085708728627588100979854100025504756612883134564810615484955420667483787505073793151187131567869182238847404683831700500278632419843128718402667009111608117220814673003164004507289935482990435685377735929081563975174366603755827490258160377784919637234960839316151282146338889214443116400147150671826022930155024588857965550032945479266847997136224351974866636053236349222390266533581020195050239637874298777344024845804743254747309337801243899239827781252031770585029619377790123696398531172251490599946452002173112811520000000000000000000000000000000000000000000000000000000000000000000000000000000000000000000000000000000000000000000000000000000\n"
          ]
        }
      ]
    },
    {
      "cell_type": "markdown",
      "source": [
        "**Set the recusion limit using sys**\n",
        "\n",
        "import sys\n",
        "\n",
        "sys.setrecursionLimit(3000)\n",
        "\n"
      ],
      "metadata": {
        "id": "-CCVgpEt9hiv"
      }
    },
    {
      "cell_type": "code",
      "source": [],
      "metadata": {
        "id": "JUTIJHv78Yxp"
      },
      "execution_count": null,
      "outputs": []
    }
  ],
  "metadata": {
    "colab": {
      "provenance": []
    },
    "kernelspec": {
      "display_name": "Python 3",
      "name": "python3"
    },
    "language_info": {
      "name": "python"
    }
  },
  "nbformat": 4,
  "nbformat_minor": 0
}