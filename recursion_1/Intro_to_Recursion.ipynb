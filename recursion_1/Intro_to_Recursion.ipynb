{
  "cells": [
    {
      "cell_type": "markdown",
      "source": [
        "# **Recursion**"
      ],
      "metadata": {
        "id": "g2FDAIMQ-bg-"
      }
    },
    {
      "cell_type": "code",
      "source": [
        "def fact(n):\n",
        "  if n==0:\n",
        "    return 1\n",
        "  # return n * fact(n-1)\n",
        "  small_out = fact(n-1)\n",
        "  return n*small_out\n",
        "\n",
        "# n = int(input())\n",
        "# fact(n)"
      ],
      "metadata": {
        "id": "rEOszA4T-WYC"
      },
      "execution_count": 20,
      "outputs": []
    },
    {
      "cell_type": "markdown",
      "source": [
        "### Principal of Mathematical Induction:"
      ],
      "metadata": {
        "id": "w8G01yXZDO9h"
      }
    },
    {
      "cell_type": "markdown",
      "source": [
        "##### **Sum of 'n' natural numbers:**"
      ],
      "metadata": {
        "id": "PSeJPb9-VMqB"
      }
    },
    {
      "cell_type": "code",
      "source": [
        "# def sum_n(n):\n",
        "#   if n==0:\n",
        "#     return 0 \n",
        "#   small_out = sum_n(n-1)\n",
        "#   output = small_out+n\n",
        "\n",
        "def sum(n):\n",
        "    if n == 1:\n",
        "        return 1\n",
        "    return n + sum(n-1)"
      ],
      "metadata": {
        "id": "BBR8UgIS-8ll"
      },
      "execution_count": 21,
      "outputs": []
    },
    {
      "cell_type": "code",
      "source": [
        "n = int(input())\n",
        "print(fact(n))\n",
        "print(sum(n))"
      ],
      "metadata": {
        "colab": {
          "base_uri": "https://localhost:8080/"
        },
        "id": "B7Mljx-6H1Pk",
        "outputId": "0debda99-8992-4dcf-cbf9-6d80b9653cd6"
      },
      "execution_count": 22,
      "outputs": [
        {
          "output_type": "stream",
          "name": "stdout",
          "text": [
            "5\n",
            "120\n",
            "15\n"
          ]
        }
      ]
    },
    {
      "cell_type": "markdown",
      "source": [
        "##### **Print numbers from 1 to n:**"
      ],
      "metadata": {
        "id": "fh2d77DNVTzl"
      }
    },
    {
      "cell_type": "code",
      "source": [
        "def print_1_to_n(n):\n",
        "  if n==0:\n",
        "    return\n",
        "  print_1_to_n(n-1)\n",
        "  print(n)\n",
        "  return\n",
        "\n",
        "n = int(input())\n",
        "print_1_to_n(n)"
      ],
      "metadata": {
        "colab": {
          "base_uri": "https://localhost:8080/"
        },
        "id": "RZ_87c_yIkgi",
        "outputId": "f7bde889-04d2-4d96-88da-e1b8a88708ab"
      },
      "execution_count": 32,
      "outputs": [
        {
          "output_type": "stream",
          "name": "stdout",
          "text": [
            "5\n",
            "1\n",
            "2\n",
            "3\n",
            "4\n",
            "5\n"
          ]
        }
      ]
    },
    {
      "cell_type": "markdown",
      "source": [
        "print_1_to_n(5):\n",
        "* 5 said I'm not 0 so went to 4 \n",
        "* 4 said I'm not 0 so went to 3 and so on goes\n",
        "* at last 0 said I'm 0 so no need to goes on.start printing now.\n",
        "* our code is statisfy so started pritning from 1 to 5"
      ],
      "metadata": {
        "id": "iQfz9T6eTc4k"
      }
    },
    {
      "cell_type": "markdown",
      "source": [
        "##### **Print numbers from n to 1:**"
      ],
      "metadata": {
        "id": "0VzGeEXOVWgx"
      }
    },
    {
      "cell_type": "code",
      "source": [
        "def print_n_to_1(n):\n",
        "  if n==0:\n",
        "    return\n",
        "  print(n)\n",
        "  print_n_to_1(n-1)\n",
        "\n",
        "n= int(input())\n",
        "print_n_to_1(n)"
      ],
      "metadata": {
        "colab": {
          "base_uri": "https://localhost:8080/"
        },
        "id": "G3E1EI_VRBX0",
        "outputId": "0951cd77-915a-4e25-c413-10cc6b8cd67e"
      },
      "execution_count": 34,
      "outputs": [
        {
          "output_type": "stream",
          "name": "stdout",
          "text": [
            "5\n",
            "5\n",
            "4\n",
            "3\n",
            "2\n",
            "1\n"
          ]
        }
      ]
    },
    {
      "cell_type": "markdown",
      "source": [
        "print_n_to_1(5):\n",
        "* 5 said I'm not 0 so went to 4 & beforing going to 4 it said let me first print myself i.e 5 and went to 4\n",
        "* 5 said I'm not 0 so went to 3 & beforing going to 3 it said let me first print myself i.e 4 and went to 3 and so on goes\n"
      ],
      "metadata": {
        "id": "dqWTm1ypSPvv"
      }
    },
    {
      "cell_type": "code",
      "source": [
        "def predict(n):\n",
        "  if (n<0):\n",
        "    return\n",
        "  print(n, end=' ')\n",
        "  predict(n-2)\n",
        "\n",
        "num=5\n",
        "predict(num)"
      ],
      "metadata": {
        "colab": {
          "base_uri": "https://localhost:8080/"
        },
        "id": "M2X9zGFTWcpK",
        "outputId": "99d3a095-26c7-4616-a20d-5515f710fabf"
      },
      "execution_count": 37,
      "outputs": [
        {
          "output_type": "stream",
          "name": "stdout",
          "text": [
            "5 3 1 "
          ]
        }
      ]
    }
  ],
  "metadata": {
    "colab": {
      "provenance": []
    },
    "kernelspec": {
      "display_name": "Python 3",
      "name": "python3"
    },
    "language_info": {
      "name": "python"
    }
  },
  "nbformat": 4,
  "nbformat_minor": 0
}